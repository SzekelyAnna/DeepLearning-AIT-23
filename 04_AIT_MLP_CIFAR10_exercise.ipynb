{
  "nbformat": 4,
  "nbformat_minor": 0,
  "metadata": {
    "anaconda-cloud": {},
    "kernelspec": {
      "display_name": "Python 3",
      "language": "python",
      "name": "python3"
    },
    "language_info": {
      "codemirror_mode": {
        "name": "ipython",
        "version": 3
      },
      "file_extension": ".py",
      "mimetype": "text/x-python",
      "name": "python",
      "nbconvert_exporter": "python",
      "pygments_lexer": "ipython3",
      "version": "3.6.6"
    },
    "colab": {
      "provenance": []
    },
    "accelerator": "GPU"
  },
  "cells": [
    {
      "cell_type": "markdown",
      "metadata": {
        "id": "cW-EyI5Lxpqi"
      },
      "source": [
        "# Copyright\n",
        "\n",
        "<PRE>\n",
        "Copyright (c) 2023 Bálint Gyires-Tóth - All Rights Reserved\n",
        "You may use and modify this code for research and development purpuses.\n",
        "Using this code for educational purposes (self-paced or instructor led) without the permission of the author is prohibited.\n",
        "</PRE>"
      ]
    },
    {
      "cell_type": "markdown",
      "source": [
        "# Example of data exploration, modeling, regulartion and prediction\n",
        "Our exercise today involves loading a standard dataset using TensorFlow Keras API, exploring the data, building a simple neural network, and evaluating the effects of basic methods (activation functions, regularization, weight initialization, etc.). We then perform predictions on the test set and inspect the results. "
      ],
      "metadata": {
        "id": "3EX4cCa4WKJu"
      }
    },
    {
      "cell_type": "markdown",
      "source": [
        "# 1. Data\n",
        "The dataset we will use is the well-known CIFAR10 (Canadian Institute For Advanced Research). Explore the details on the Keras website first: https://keras.io/api/datasets/cifar10/\n",
        "\n",
        "After you explored the basic features of the data, let's load it into the memory and explore the shapes:"
      ],
      "metadata": {
        "id": "yY9fztIeWIKt"
      }
    },
    {
      "cell_type": "code",
      "source": [
        "from tensorflow.keras.datasets import cifar10\n",
        "from tensorflow.keras.utils import to_categorical\n",
        "import numpy as np"
      ],
      "metadata": {
        "id": "giRZKTjzX_7l"
      },
      "execution_count": 1,
      "outputs": []
    },
    {
      "cell_type": "code",
      "source": [
        "import keras"
      ],
      "metadata": {
        "id": "Al0peRP2N4DU"
      },
      "execution_count": 2,
      "outputs": []
    },
    {
      "cell_type": "code",
      "source": [
        "(X_train, Y_train), (X_test, Y_test) = cifar10.load_data()"
      ],
      "metadata": {
        "id": "bez7q0eiWQCK",
        "colab": {
          "base_uri": "https://localhost:8080/"
        },
        "outputId": "5f1e156c-c5ab-43a3-f95c-4d4df1e3dd7a"
      },
      "execution_count": 3,
      "outputs": [
        {
          "output_type": "stream",
          "name": "stdout",
          "text": [
            "Downloading data from https://www.cs.toronto.edu/~kriz/cifar-10-python.tar.gz\n",
            "170498071/170498071 [==============================] - 14s 0us/step\n"
          ]
        }
      ]
    },
    {
      "cell_type": "code",
      "source": [
        "print(X_train.shape)\n",
        "print(X_test.shape)\n",
        "print(Y_train.shape)\n",
        "print(Y_test.shape)"
      ],
      "metadata": {
        "id": "2tJoRq5wXywi",
        "colab": {
          "base_uri": "https://localhost:8080/"
        },
        "outputId": "da32bb76-62c1-4441-d878-f039ca8c359b"
      },
      "execution_count": 4,
      "outputs": [
        {
          "output_type": "stream",
          "name": "stdout",
          "text": [
            "(50000, 32, 32, 3)\n",
            "(10000, 32, 32, 3)\n",
            "(50000, 1)\n",
            "(10000, 1)\n"
          ]
        }
      ]
    },
    {
      "cell_type": "markdown",
      "source": [
        "## 1.1. Exercise \n",
        "Display the first ten images of the training data. Hints:\n",
        "* Axis 0 refers to the separate images, e.g. X_train[0]\n",
        "* You can use the [Matplotlib Pyplot imshow function](https://matplotlib.org/stable/api/_as_gen/matplotlib.pyplot.imshow.html) for displaying the image. Just don't forget to import Plotly first!\n",
        "* A corresponding example, but you have to modify the code for your purpose: https://stackoverflow.com/questions/46615554/how-to-display-multiple-images-in-one-figure-correctly"
      ],
      "metadata": {
        "id": "zTCSGFyDlNvf"
      }
    },
    {
      "cell_type": "code",
      "source": [
        "X_train[0].shape"
      ],
      "metadata": {
        "id": "A3QN41-qvdMI",
        "outputId": "9c020902-7670-43b5-e5ec-72858fc4dc6f",
        "colab": {
          "base_uri": "https://localhost:8080/"
        }
      },
      "execution_count": 5,
      "outputs": [
        {
          "output_type": "execute_result",
          "data": {
            "text/plain": [
              "(32, 32, 3)"
            ]
          },
          "metadata": {},
          "execution_count": 5
        }
      ]
    },
    {
      "cell_type": "code",
      "source": [
        "import matplotlib.pyplot as plt\n",
        "\n",
        "fig = plt.figure(figsize=(8, 4))\n",
        "columns = 5\n",
        "rows = 2\n",
        "for i in range(1,11):\n",
        "    img = X_train[i]\n",
        "    fig.add_subplot(rows, columns, i)\n",
        "    plt.imshow(img)\n",
        "plt.show()"
      ],
      "metadata": {
        "id": "hIQhHTppmBdO",
        "colab": {
          "base_uri": "https://localhost:8080/",
          "height": 266
        },
        "outputId": "98bf10ef-8b11-4672-d523-92ddc8e78f4d"
      },
      "execution_count": 6,
      "outputs": [
        {
          "output_type": "display_data",
          "data": {
            "text/plain": [
              "<Figure size 576x288 with 10 Axes>"
            ],
            "image/png": "[encoded data removed]"
          },
          "metadata": {
            "needs_background": "light"
          }
        }
      ]
    },
    {
      "cell_type": "markdown",
      "source": [
        "Print the corresponding labels of the displayed images from the target variable (Y_train):"
      ],
      "metadata": {
        "id": "FAQkUWlmm-bc"
      }
    },
    {
      "cell_type": "code",
      "source": [
        "print(Y_train[:11])"
      ],
      "metadata": {
        "id": "AkOrWzghnJ78",
        "colab": {
          "base_uri": "https://localhost:8080/"
        },
        "outputId": "1b776af1-14e4-45d2-a326-a2aaaabd9ea2"
      },
      "execution_count": 7,
      "outputs": [
        {
          "output_type": "stream",
          "name": "stdout",
          "text": [
            "[[6]\n",
            " [9]\n",
            " [9]\n",
            " [4]\n",
            " [1]\n",
            " [1]\n",
            " [2]\n",
            " [7]\n",
            " [8]\n",
            " [3]\n",
            " [4]]\n"
          ]
        }
      ]
    },
    {
      "cell_type": "markdown",
      "source": [
        "## 1.2. Exercise\n",
        "We will train a Multi-Layer Perceptron (MLP), which requires a 2 dimensional input: 0th axis refers to the datapoints (i.e. images), the 1th dimens to the input. As images are 3 dimensional (width, height, color channels), you have to reshape the images into vectors. We also call this flattening. \n",
        "\n",
        "In order to do so, calculate the size of the equivalent 1D vector of the image:"
      ],
      "metadata": {
        "id": "VX24g5FstsRU"
      }
    },
    {
      "cell_type": "code",
      "source": [
        "flattened_dim = 32*32*3\n",
        "print(flattened_dim)"
      ],
      "metadata": {
        "id": "hdoMyxHzuXZG",
        "colab": {
          "base_uri": "https://localhost:8080/"
        },
        "outputId": "cfd58f23-88f7-4f7b-b2af-9d4d1f213237"
      },
      "execution_count": 8,
      "outputs": [
        {
          "output_type": "stream",
          "name": "stdout",
          "text": [
            "3072\n"
          ]
        }
      ]
    },
    {
      "cell_type": "markdown",
      "source": [
        "After you calculated it, we can reshape the images, and covert the integer arrays into float arrays -- which are needed for the neural networks as input. Hint:\n",
        "* in the [reshape() function of Numpy](https://www.w3schools.com/python/numpy/numpy_array_reshape.asp) you can use -1 for one axis, to automatically calculate that value."
      ],
      "metadata": {
        "id": "WbqXJUSFubeC"
      }
    },
    {
      "cell_type": "code",
      "source": [
        "# reshape 3D tensors to 2D tensors\n",
        "X_train = X_train.reshape(-1, flattened_dim)\n",
        "X_test = X_test.reshape(-1, flattened_dim)\n",
        "\n",
        "# it is in int8 format, the neural network requires float32\n",
        "X_train = X_train.astype(\"float32\")\n",
        "X_test = X_test.astype(\"float32\")"
      ],
      "metadata": {
        "id": "vukOcBM0XzSj"
      },
      "execution_count": 9,
      "outputs": []
    },
    {
      "cell_type": "code",
      "source": [
        "X_test.dtype"
      ],
      "metadata": {
        "id": "Tlj_YIvaxBaF",
        "outputId": "e1042d72-1160-46c2-9f19-1fcb94b46772",
        "colab": {
          "base_uri": "https://localhost:8080/"
        }
      },
      "execution_count": 10,
      "outputs": [
        {
          "output_type": "execute_result",
          "data": {
            "text/plain": [
              "dtype('float32')"
            ]
          },
          "metadata": {},
          "execution_count": 10
        }
      ]
    },
    {
      "cell_type": "markdown",
      "source": [
        "## 1.3. Exercise\n",
        "As the next step, let's split the training data into training and validation data. 80% of the original training data should be the final training data, and 20% the validation.\n",
        "You should use Numpy indexing to select the first 80% of X_train as final X_train, and the last 20% as X_valid. Hints: \n",
        "* https://datascienceparichay.com/article/numpy-array-first-n-rows/\n",
        "* https://datascienceparichay.com/article/numpy-array-last-n-rows/"
      ],
      "metadata": {
        "id": "DO79AdIdvVfD"
      }
    },
    {
      "cell_type": "code",
      "source": [
        "X_train[0:3].shape"
      ],
      "metadata": {
        "id": "pwxw2HMXz2aG",
        "outputId": "2d800869-9d92-4c4b-c6a5-dbd0bcf1578b",
        "colab": {
          "base_uri": "https://localhost:8080/"
        }
      },
      "execution_count": 11,
      "outputs": [
        {
          "output_type": "execute_result",
          "data": {
            "text/plain": [
              "(3, 3072)"
            ]
          },
          "metadata": {},
          "execution_count": 11
        }
      ]
    },
    {
      "cell_type": "code",
      "source": [
        "X_train.shape"
      ],
      "metadata": {
        "id": "UWO6upZhzwmy",
        "outputId": "b1c12fc1-982d-4622-e3ca-0860953c5f55",
        "colab": {
          "base_uri": "https://localhost:8080/"
        }
      },
      "execution_count": 12,
      "outputs": [
        {
          "output_type": "execute_result",
          "data": {
            "text/plain": [
              "(50000, 3072)"
            ]
          },
          "metadata": {},
          "execution_count": 12
        }
      ]
    },
    {
      "cell_type": "code",
      "source": [
        "X_train[40000:].shape"
      ],
      "metadata": {
        "id": "B5TNq1ZYyKP5",
        "outputId": "70341c1c-3aee-478f-cba4-c4acc0516ea8",
        "colab": {
          "base_uri": "https://localhost:8080/"
        }
      },
      "execution_count": 13,
      "outputs": [
        {
          "output_type": "execute_result",
          "data": {
            "text/plain": [
              "(10000, 3072)"
            ]
          },
          "metadata": {},
          "execution_count": 13
        }
      ]
    },
    {
      "cell_type": "code",
      "source": [
        "train_ratio  = 0.8\n",
        "train_length = X_train.shape[0] # length of the training data\n",
        "train_split  = train_ratio # where to split the training and validation data\n",
        "X_valid, Y_valid = X_train[0:int(X_train.shape[0]*0.2)], Y_train[0:int(X_train.shape[0]*0.2)]\n",
        "X_train, Y_train = X_train[int(X_train.shape[0]*0.2):], Y_train[int(X_train.shape[0]*0.2):]"
      ],
      "metadata": {
        "id": "mRwuWxxIxLgN"
      },
      "execution_count": 14,
      "outputs": []
    },
    {
      "cell_type": "code",
      "source": [
        "print(X_valid.shape, Y_valid.shape)"
      ],
      "metadata": {
        "id": "af7zKAdn1YCC",
        "outputId": "6c2fc03b-a25e-44b1-932e-209968439fb8",
        "colab": {
          "base_uri": "https://localhost:8080/"
        }
      },
      "execution_count": 15,
      "outputs": [
        {
          "output_type": "stream",
          "name": "stdout",
          "text": [
            "(10000, 3072) (10000, 1)\n"
          ]
        }
      ]
    },
    {
      "cell_type": "code",
      "source": [
        "print(X_train.shape, X_train.shape)"
      ],
      "metadata": {
        "id": "ULGp2QLX1frp",
        "outputId": "004f40f1-963b-4f9d-ec04-0a358b11407d",
        "colab": {
          "base_uri": "https://localhost:8080/"
        }
      },
      "execution_count": 16,
      "outputs": [
        {
          "output_type": "stream",
          "name": "stdout",
          "text": [
            "(40000, 3072) (40000, 3072)\n"
          ]
        }
      ]
    },
    {
      "cell_type": "markdown",
      "source": [
        "## 1.4. Exercise\n",
        "As the last step of input data preparation, the data should be standardized. Calculate the mean and variance of the training data (elementvise -- so for each value of the flattened image you should get a mean and variance for the training data along 0th axis). Hint: \n",
        "* https://stackoverflow.com/questions/70626231/how-to-calculate-mean-variance-standard-deviation-per-index-of-array"
      ],
      "metadata": {
        "id": "z05y_QWDxWER"
      }
    },
    {
      "cell_type": "code",
      "source": [
        "mean = np.mean(X_train, axis=0)\n",
        "std  = np.std(X_train, axis=0)"
      ],
      "metadata": {
        "id": "TSZbvWCBx8Ea"
      },
      "execution_count": 17,
      "outputs": []
    },
    {
      "cell_type": "code",
      "source": [
        "mean.shape"
      ],
      "metadata": {
        "id": "DOlg8fga2ZVU",
        "outputId": "c7d0881a-9fb2-4cbe-8960-bb20fa52e060",
        "colab": {
          "base_uri": "https://localhost:8080/"
        }
      },
      "execution_count": 18,
      "outputs": [
        {
          "output_type": "execute_result",
          "data": {
            "text/plain": [
              "(3072,)"
            ]
          },
          "metadata": {},
          "execution_count": 18
        }
      ]
    },
    {
      "cell_type": "markdown",
      "source": [
        "Next, use the resulting values to standardize the training, validation and test data by substracting the mean and dividing the result with the standard deviation."
      ],
      "metadata": {
        "id": "6WRHKkkjyN1S"
      }
    },
    {
      "cell_type": "code",
      "source": [
        "X_train = (X_train-mean)/std\n",
        "X_valid = (X_valid-mean)/std\n",
        "X_test  = (X_test-mean)/std"
      ],
      "metadata": {
        "id": "2ESLP1EIyB2J"
      },
      "execution_count": 19,
      "outputs": []
    },
    {
      "cell_type": "markdown",
      "source": [
        "## 1.5. Exercise\n",
        "And as the last step, convert the dense representation of the classes (i.e. 0,1,2,3...9) to one-hot encoding (0 = [1 0 0 0 0 0 0 0 0 0], 1 = [0 1 0 0 0 0 0 0 0 0] ... 9 = [0 0 0 0 0 0 0 0 0 1]). To do this, first, calculate the number of unique elements in the target training data. Hints:\n",
        "* use the [unique() function](https://numpy.org/doc/stable/reference/generated/numpy.unique.html) of Numpy to list the unique elements\n",
        "* you can count the number of elements in a list with the [len() function](https://www.w3schools.com/python/ref_func_len.asp)"
      ],
      "metadata": {
        "id": "ooHCnUin7r4o"
      }
    },
    {
      "cell_type": "code",
      "source": [
        "nb_classes = len(np.unique(Y_train))"
      ],
      "metadata": {
        "id": "i0LAO9cs8KEE"
      },
      "execution_count": 20,
      "outputs": []
    },
    {
      "cell_type": "markdown",
      "source": [
        "Doublecheck, if the same number of classes exists in the validation and test target data:"
      ],
      "metadata": {
        "id": "BvM6XhGe8JU9"
      }
    },
    {
      "cell_type": "code",
      "source": [
        "print(\"Validation data has the same number of classes, as the training data:\", nb_classes == len(np.unique(Y_valid)))\n",
        "print(\"Test data has the same number of classes, as the training data:\", nb_classes == len(np.unique(Y_test)))"
      ],
      "metadata": {
        "id": "eZFNSsyx_Py2",
        "colab": {
          "base_uri": "https://localhost:8080/"
        },
        "outputId": "d4290242-4620-47c2-cedc-2cf8d19aba04"
      },
      "execution_count": 21,
      "outputs": [
        {
          "output_type": "stream",
          "name": "stdout",
          "text": [
            "Validation data has the same number of classes, as the training data: True\n",
            "Test data has the same number of classes, as the training data: True\n"
          ]
        }
      ]
    },
    {
      "cell_type": "markdown",
      "source": [
        "And convert the dense representation into one-hot encoding. Hint:\n",
        "* use the [to_categorical function](https://www.tensorflow.org/api_docs/python/tf/keras/utils/to_categorical) with the calculated nb_classes\n"
      ],
      "metadata": {
        "id": "mJM-iBmR8dLe"
      }
    },
    {
      "cell_type": "code",
      "source": [
        "Y_train = keras.utils.to_categorical(Y_train, num_classes=nb_classes, dtype='float32')\n",
        "Y_valid = keras.utils.to_categorical(Y_valid, num_classes=nb_classes, dtype='float32')\n",
        "Y_test  = keras.utils.to_categorical(Y_test, num_classes=nb_classes, dtype='float32')"
      ],
      "metadata": {
        "id": "xwZ4OJ6I8lba"
      },
      "execution_count": 22,
      "outputs": []
    },
    {
      "cell_type": "markdown",
      "source": [
        "## Final check of data preparation\n",
        "Now, lets check the shapes and mean and standard deviation of the training, validation and test data."
      ],
      "metadata": {
        "id": "LshN2OSsv3TZ"
      }
    },
    {
      "cell_type": "code",
      "source": [
        "print(\"Shapes of the training, validation and test input data:\", X_train.shape, X_valid.shape, X_test.shape)\n",
        "print(\"Shapes of the training, validation and test output data:\", Y_train.shape, Y_valid.shape, Y_test.shape)\n",
        "print(\"Mean values of the training, validation and test input data:\", X_train.mean(), X_valid.mean(), X_test.mean())\n",
        "print(\"Standard deviation of the training, validation and test input data:\", X_train.std(), X_valid.std(), X_test.std())"
      ],
      "metadata": {
        "id": "O_jdJVcvX0vi",
        "colab": {
          "base_uri": "https://localhost:8080/"
        },
        "outputId": "648339d3-9410-49ff-d996-fadf968ff938"
      },
      "execution_count": 23,
      "outputs": [
        {
          "output_type": "stream",
          "name": "stdout",
          "text": [
            "Shapes of the training, validation and test input data: (40000, 3072) (10000, 3072) (10000, 3072)\n",
            "Shapes of the training, validation and test output data: (40000, 10) (10000, 10) (10000, 10)\n",
            "Mean values of the training, validation and test input data: -1.8725792e-09 0.006143087 0.014110389\n",
            "Standard deviation of the training, validation and test input data: 1.0000019 1.0036353 0.99924415\n"
          ]
        }
      ]
    },
    {
      "cell_type": "markdown",
      "source": [
        "Don't worry, if the mean and standard deviation of the validation and test data are not exactly 0 and 1, but these might be very mear to it (e.g. 0.01 mean, 0.99 variance)."
      ],
      "metadata": {
        "id": "5GtAOOoezmZY"
      }
    },
    {
      "cell_type": "markdown",
      "metadata": {
        "id": "cJ14oyZExpqj"
      },
      "source": [
        "# 2. Training "
      ]
    },
    {
      "cell_type": "markdown",
      "metadata": {
        "id": "s4ZXYRMBxpql"
      },
      "source": [
        "Let us begin with a simple example of creating a small neural network without regularization and training it with actual data. The purpose of this is to provide you with an example as to how to proceed with the next exercise. "
      ]
    },
    {
      "cell_type": "code",
      "source": [
        "# imports \n",
        "import numpy as np\n",
        "import matplotlib.pyplot as plt\n",
        "from tensorflow.keras.models import Sequential\n",
        "from tensorflow.keras.layers import Dense, Embedding, Flatten, Dropout\n",
        "from tensorflow.keras.initializers import HeNormal\n",
        "from tensorflow.keras.callbacks import EarlyStopping"
      ],
      "metadata": {
        "id": "6-8Q6ll7ZDgq"
      },
      "execution_count": 24,
      "outputs": []
    },
    {
      "cell_type": "code",
      "source": [
        "# model definition\n",
        "model = Sequential()\n",
        "model.add(Dense(128, activation='tanh', input_shape=(flattened_dim,)))\n",
        "model.add(Dense(128, activation='tanh'))\n",
        "model.add(Dense(nb_classes, activation='softmax'))\n",
        "\n",
        "# loss function and optimizer\n",
        "model.compile(loss='categorical_crossentropy', optimizer='adam', metrics=['accuracy'])"
      ],
      "metadata": {
        "id": "pke6w3CD8DHp"
      },
      "execution_count": 25,
      "outputs": []
    },
    {
      "cell_type": "code",
      "metadata": {
        "id": "CZbOR76QxprC",
        "colab": {
          "base_uri": "https://localhost:8080/"
        },
        "outputId": "53901dc8-3daf-44dd-9745-8baf3f8c7d6e"
      },
      "source": [
        "# training\n",
        "network_history = model.fit(X_train, Y_train, \n",
        "                            validation_data=(X_valid,Y_valid),\n",
        "                            batch_size=128,                             \n",
        "                            epochs=40, \n",
        "                            verbose=1)"
      ],
      "execution_count": 26,
      "outputs": [
        {
          "output_type": "stream",
          "name": "stdout",
          "text": [
            "Epoch 1/40\n",
            "313/313 [==============================] - 8s 6ms/step - loss: 1.8235 - accuracy: 0.3645 - val_loss: 1.7241 - val_accuracy: 0.3986\n",
            "Epoch 2/40\n",
            "313/313 [==============================] - 1s 5ms/step - loss: 1.6944 - accuracy: 0.4117 - val_loss: 1.6865 - val_accuracy: 0.4086\n",
            "Epoch 3/40\n",
            "313/313 [==============================] - 1s 5ms/step - loss: 1.6421 - accuracy: 0.4313 - val_loss: 1.6760 - val_accuracy: 0.4115\n",
            "Epoch 4/40\n",
            "313/313 [==============================] - 2s 6ms/step - loss: 1.5960 - accuracy: 0.4474 - val_loss: 1.6511 - val_accuracy: 0.4256\n",
            "Epoch 5/40\n",
            "313/313 [==============================] - 2s 5ms/step - loss: 1.5700 - accuracy: 0.4572 - val_loss: 1.6402 - val_accuracy: 0.4311\n",
            "Epoch 6/40\n",
            "313/313 [==============================] - 1s 4ms/step - loss: 1.5424 - accuracy: 0.4660 - val_loss: 1.6337 - val_accuracy: 0.4296\n",
            "Epoch 7/40\n",
            "313/313 [==============================] - 1s 4ms/step - loss: 1.5111 - accuracy: 0.4755 - val_loss: 1.6186 - val_accuracy: 0.4367\n",
            "Epoch 8/40\n",
            "313/313 [==============================] - 1s 5ms/step - loss: 1.4852 - accuracy: 0.4849 - val_loss: 1.6187 - val_accuracy: 0.4370\n",
            "Epoch 9/40\n",
            "313/313 [==============================] - 1s 4ms/step - loss: 1.4559 - accuracy: 0.4958 - val_loss: 1.6058 - val_accuracy: 0.4457\n",
            "Epoch 10/40\n",
            "313/313 [==============================] - 2s 5ms/step - loss: 1.4299 - accuracy: 0.5031 - val_loss: 1.5999 - val_accuracy: 0.4455\n",
            "Epoch 11/40\n",
            "313/313 [==============================] - 1s 5ms/step - loss: 1.4040 - accuracy: 0.5115 - val_loss: 1.5892 - val_accuracy: 0.4505\n",
            "Epoch 12/40\n",
            "313/313 [==============================] - 2s 6ms/step - loss: 1.3843 - accuracy: 0.5201 - val_loss: 1.5882 - val_accuracy: 0.4520\n",
            "Epoch 13/40\n",
            "313/313 [==============================] - 2s 5ms/step - loss: 1.3642 - accuracy: 0.5276 - val_loss: 1.5899 - val_accuracy: 0.4488\n",
            "Epoch 14/40\n",
            "313/313 [==============================] - 1s 5ms/step - loss: 1.3422 - accuracy: 0.5337 - val_loss: 1.5953 - val_accuracy: 0.4462\n",
            "Epoch 15/40\n",
            "313/313 [==============================] - 1s 5ms/step - loss: 1.3165 - accuracy: 0.5426 - val_loss: 1.5834 - val_accuracy: 0.4513\n",
            "Epoch 16/40\n",
            "313/313 [==============================] - 1s 4ms/step - loss: 1.3048 - accuracy: 0.5473 - val_loss: 1.5817 - val_accuracy: 0.4560\n",
            "Epoch 17/40\n",
            "313/313 [==============================] - 1s 5ms/step - loss: 1.2841 - accuracy: 0.5533 - val_loss: 1.6080 - val_accuracy: 0.4468\n",
            "Epoch 18/40\n",
            "313/313 [==============================] - 1s 4ms/step - loss: 1.2656 - accuracy: 0.5613 - val_loss: 1.5766 - val_accuracy: 0.4598\n",
            "Epoch 19/40\n",
            "313/313 [==============================] - 1s 4ms/step - loss: 1.2445 - accuracy: 0.5685 - val_loss: 1.5909 - val_accuracy: 0.4582\n",
            "Epoch 20/40\n",
            "313/313 [==============================] - 1s 5ms/step - loss: 1.2217 - accuracy: 0.5762 - val_loss: 1.5978 - val_accuracy: 0.4530\n",
            "Epoch 21/40\n",
            "313/313 [==============================] - 2s 6ms/step - loss: 1.2112 - accuracy: 0.5797 - val_loss: 1.6054 - val_accuracy: 0.4595\n",
            "Epoch 22/40\n",
            "313/313 [==============================] - 1s 4ms/step - loss: 1.1913 - accuracy: 0.5850 - val_loss: 1.6128 - val_accuracy: 0.4535\n",
            "Epoch 23/40\n",
            "313/313 [==============================] - 1s 5ms/step - loss: 1.1692 - accuracy: 0.5939 - val_loss: 1.6209 - val_accuracy: 0.4586\n",
            "Epoch 24/40\n",
            "313/313 [==============================] - 1s 4ms/step - loss: 1.1492 - accuracy: 0.6023 - val_loss: 1.6174 - val_accuracy: 0.4585\n",
            "Epoch 25/40\n",
            "313/313 [==============================] - 1s 4ms/step - loss: 1.1351 - accuracy: 0.6086 - val_loss: 1.6295 - val_accuracy: 0.4548\n",
            "Epoch 26/40\n",
            "313/313 [==============================] - 1s 4ms/step - loss: 1.1211 - accuracy: 0.6111 - val_loss: 1.6460 - val_accuracy: 0.4481\n",
            "Epoch 27/40\n",
            "313/313 [==============================] - 2s 5ms/step - loss: 1.1040 - accuracy: 0.6166 - val_loss: 1.6352 - val_accuracy: 0.4549\n",
            "Epoch 28/40\n",
            "313/313 [==============================] - 1s 5ms/step - loss: 1.0806 - accuracy: 0.6260 - val_loss: 1.6552 - val_accuracy: 0.4535\n",
            "Epoch 29/40\n",
            "313/313 [==============================] - 2s 6ms/step - loss: 1.0752 - accuracy: 0.6266 - val_loss: 1.6556 - val_accuracy: 0.4543\n",
            "Epoch 30/40\n",
            "313/313 [==============================] - 1s 5ms/step - loss: 1.0497 - accuracy: 0.6393 - val_loss: 1.6750 - val_accuracy: 0.4496\n",
            "Epoch 31/40\n",
            "313/313 [==============================] - 2s 5ms/step - loss: 1.0292 - accuracy: 0.6445 - val_loss: 1.6766 - val_accuracy: 0.4501\n",
            "Epoch 32/40\n",
            "313/313 [==============================] - 2s 5ms/step - loss: 1.0170 - accuracy: 0.6486 - val_loss: 1.6908 - val_accuracy: 0.4492\n",
            "Epoch 33/40\n",
            "313/313 [==============================] - 2s 6ms/step - loss: 1.0025 - accuracy: 0.6522 - val_loss: 1.6833 - val_accuracy: 0.4561\n",
            "Epoch 34/40\n",
            "313/313 [==============================] - 2s 5ms/step - loss: 0.9898 - accuracy: 0.6579 - val_loss: 1.7217 - val_accuracy: 0.4430\n",
            "Epoch 35/40\n",
            "313/313 [==============================] - 1s 4ms/step - loss: 0.9743 - accuracy: 0.6655 - val_loss: 1.7265 - val_accuracy: 0.4420\n",
            "Epoch 36/40\n",
            "313/313 [==============================] - 2s 5ms/step - loss: 0.9659 - accuracy: 0.6690 - val_loss: 1.7305 - val_accuracy: 0.4450\n",
            "Epoch 37/40\n",
            "313/313 [==============================] - 2s 6ms/step - loss: 0.9500 - accuracy: 0.6754 - val_loss: 1.7277 - val_accuracy: 0.4528\n",
            "Epoch 38/40\n",
            "313/313 [==============================] - 1s 5ms/step - loss: 0.9332 - accuracy: 0.6762 - val_loss: 1.7471 - val_accuracy: 0.4458\n",
            "Epoch 39/40\n",
            "313/313 [==============================] - 1s 5ms/step - loss: 0.9086 - accuracy: 0.6891 - val_loss: 1.7659 - val_accuracy: 0.4481\n",
            "Epoch 40/40\n",
            "313/313 [==============================] - 1s 5ms/step - loss: 0.9147 - accuracy: 0.6856 - val_loss: 1.7760 - val_accuracy: 0.4465\n"
          ]
        }
      ]
    },
    {
      "cell_type": "markdown",
      "metadata": {
        "id": "uFqhzV85xprJ"
      },
      "source": [
        "Let's plot the training and validation loss and accuracy curves:"
      ]
    },
    {
      "cell_type": "code",
      "metadata": {
        "id": "BYmXGkLCxprK",
        "colab": {
          "base_uri": "https://localhost:8080/",
          "height": 563
        },
        "outputId": "fb57aae8-19bf-48dd-a1f3-444d8bd17dd3"
      },
      "source": [
        "def plot_history(network_history):\n",
        "    plt.figure()\n",
        "    plt.xlabel('Epochs')\n",
        "    plt.ylabel('Loss')\n",
        "    plt.plot(network_history.history['loss'])\n",
        "    plt.plot(network_history.history['val_loss'])\n",
        "    plt.legend(['Training', 'Validation'])\n",
        "\n",
        "    plt.figure()\n",
        "    plt.xlabel('Epochs')\n",
        "    plt.ylabel('Accuracy')\n",
        "    plt.plot(network_history.history['accuracy'])\n",
        "    plt.plot(network_history.history['val_accuracy'])\n",
        "    plt.legend(['Training', 'Validation'], loc='lower right')\n",
        "    plt.show()\n",
        "\n",
        "plot_history(network_history)"
      ],
      "execution_count": 27,
      "outputs": [
        {
          "output_type": "display_data",
          "data": {
            "text/plain": [
              "<Figure size 432x288 with 1 Axes>"
            ],
            "image/png": "[encoded data removed]"
          },
          "metadata": {
            "needs_background": "light"
          }
        },
        {
          "output_type": "display_data",
          "data": {
            "text/plain": [
              "<Figure size 432x288 with 1 Axes>"
            ],
            "image/png": "[encoded data removed]"
          },
          "metadata": {
            "needs_background": "light"
          }
        }
      ]
    },
    {
      "cell_type": "markdown",
      "source": [
        "What do you think? Does it overfit? "
      ],
      "metadata": {
        "id": "tgG7QeXF-dx6"
      }
    },
    {
      "cell_type": "markdown",
      "metadata": {
        "id": "_Q9rIeBBxprO"
      },
      "source": [
        "# Inspecting the model"
      ]
    },
    {
      "cell_type": "code",
      "metadata": {
        "id": "6r2AmmoMxprP",
        "colab": {
          "base_uri": "https://localhost:8080/"
        },
        "outputId": "2951b658-cd03-4a57-b726-331d7faea7f7"
      },
      "source": [
        "model.summary()"
      ],
      "execution_count": 28,
      "outputs": [
        {
          "output_type": "stream",
          "name": "stdout",
          "text": [
            "Model: \"sequential\"\n",
            "_________________________________________________________________\n",
            " Layer (type)                Output Shape              Param #   \n",
            "=================================================================\n",
            " dense (Dense)               (None, 128)               393344    \n",
            "                                                                 \n",
            " dense_1 (Dense)             (None, 128)               16512     \n",
            "                                                                 \n",
            " dense_2 (Dense)             (None, 10)                1290      \n",
            "                                                                 \n",
            "=================================================================\n",
            "Total params: 411,146\n",
            "Trainable params: 411,146\n",
            "Non-trainable params: 0\n",
            "_________________________________________________________________\n"
          ]
        }
      ]
    },
    {
      "cell_type": "code",
      "metadata": {
        "id": "D3-bVDVuxprS",
        "colab": {
          "base_uri": "https://localhost:8080/"
        },
        "outputId": "c8124463-b056-4cbe-9e74-d0a408caa12c"
      },
      "source": [
        "print('Input: ', model.input)"
      ],
      "execution_count": 29,
      "outputs": [
        {
          "output_type": "stream",
          "name": "stdout",
          "text": [
            "Input:  KerasTensor(type_spec=TensorSpec(shape=(None, 3072), dtype=tf.float32, name='dense_input'), name='dense_input', description=\"created by layer 'dense_input'\")\n"
          ]
        }
      ]
    },
    {
      "cell_type": "code",
      "metadata": {
        "id": "Da2OJ3DmxprX",
        "colab": {
          "base_uri": "https://localhost:8080/"
        },
        "outputId": "f3bf5c44-3246-4562-b0dd-ec7347890528"
      },
      "source": [
        "print('Layers:\\n')\n",
        "for layer in model.layers:\n",
        "    print(\"Layer's name: \", layer.name, ', trainable: ', layer.trainable)\n",
        "    print(layer.get_config(),'\\n')"
      ],
      "execution_count": 30,
      "outputs": [
        {
          "output_type": "stream",
          "name": "stdout",
          "text": [
            "Layers:\n",
            "\n",
            "Layer's name:  dense , trainable:  True\n",
            "{'name': 'dense', 'trainable': True, 'dtype': 'float32', 'batch_input_shape': (None, 3072), 'units': 128, 'activation': 'tanh', 'use_bias': True, 'kernel_initializer': {'class_name': 'GlorotUniform', 'config': {'seed': None}}, 'bias_initializer': {'class_name': 'Zeros', 'config': {}}, 'kernel_regularizer': None, 'bias_regularizer': None, 'activity_regularizer': None, 'kernel_constraint': None, 'bias_constraint': None} \n",
            "\n",
            "Layer's name:  dense_1 , trainable:  True\n",
            "{'name': 'dense_1', 'trainable': True, 'dtype': 'float32', 'units': 128, 'activation': 'tanh', 'use_bias': True, 'kernel_initializer': {'class_name': 'GlorotUniform', 'config': {'seed': None}}, 'bias_initializer': {'class_name': 'Zeros', 'config': {}}, 'kernel_regularizer': None, 'bias_regularizer': None, 'activity_regularizer': None, 'kernel_constraint': None, 'bias_constraint': None} \n",
            "\n",
            "Layer's name:  dense_2 , trainable:  True\n",
            "{'name': 'dense_2', 'trainable': True, 'dtype': 'float32', 'units': 10, 'activation': 'softmax', 'use_bias': True, 'kernel_initializer': {'class_name': 'GlorotUniform', 'config': {'seed': None}}, 'bias_initializer': {'class_name': 'Zeros', 'config': {}}, 'kernel_regularizer': None, 'bias_regularizer': None, 'activity_regularizer': None, 'kernel_constraint': None, 'bias_constraint': None} \n",
            "\n"
          ]
        }
      ]
    },
    {
      "cell_type": "code",
      "metadata": {
        "id": "AtVX3M3lxprc",
        "colab": {
          "base_uri": "https://localhost:8080/"
        },
        "outputId": "31db7be9-01e4-49a7-8f10-0ac9cb143b8c"
      },
      "source": [
        "print('Output: ', model.output)"
      ],
      "execution_count": 31,
      "outputs": [
        {
          "output_type": "stream",
          "name": "stdout",
          "text": [
            "Output:  KerasTensor(type_spec=TensorSpec(shape=(None, 10), dtype=tf.float32, name=None), name='dense_2/Softmax:0', description=\"created by layer 'dense_2'\")\n"
          ]
        }
      ]
    },
    {
      "cell_type": "markdown",
      "source": [
        "## 2.1. Exercise\n",
        "Introduce [early stopping](https://www.tensorflow.org/api_docs/python/tf/keras/callbacks/EarlyStopping) and [dropout](https://www.tensorflow.org/api_docs/python/tf/keras/layers/Dropout) with a rate between 0.1..0.5. Tips:\n",
        "\n",
        "* Insert the dropout layer between the two Dense layers. \n",
        "* Set the patience of early stopping to 5.\n",
        "* Set the number of epochs to a very high number.\n",
        "* Don't forget to restore best weights after early stopping. \n",
        "* And also set early stopping to monitor validation accuracy (the default value is validation loss -- which is categorical crossentropy now).\n",
        "\n",
        "Compile and train the model. Attempt to increase the validation accuracy as much as possible by making changes to the dropout rate. Inspect the effects of the modifications."
      ],
      "metadata": {
        "id": "E-hHfs9qA_iO"
      }
    },
    {
      "cell_type": "code",
      "source": [
        "es = 0.1"
      ],
      "metadata": {
        "id": "NwXrPzOgEBG-"
      },
      "execution_count": 32,
      "outputs": []
    },
    {
      "cell_type": "code",
      "source": [
        "# model definition with dropout\n",
        "model = Sequential()\n",
        "model.add(Dense(128, activation='tanh', input_shape=(flattened_dim,)))\n",
        "model.add(Dropout(0.1))\n",
        "model.add(Dense(128, activation='tanh'))\n",
        "model.add(Dense(nb_classes, activation='softmax'))\n",
        "\n",
        "# loss function and optimizer\n",
        "model.compile(loss='categorical_crossentropy', optimizer='adam', metrics=['accuracy'])"
      ],
      "metadata": {
        "id": "7hZEGzj8GFwP"
      },
      "execution_count": 46,
      "outputs": []
    },
    {
      "cell_type": "code",
      "source": [
        "# training with early stopping\n",
        "network_history = model.fit(X_train, Y_train, \n",
        "                            validation_data=(X_valid,Y_valid),\n",
        "                            batch_size=128,                             \n",
        "                            epochs=30, \n",
        "                            verbose=1, \n",
        "                            callbacks=keras.callbacks.EarlyStopping(patience=6))"
      ],
      "metadata": {
        "id": "GCG54R-vGGWj",
        "colab": {
          "base_uri": "https://localhost:8080/"
        },
        "outputId": "d4bc4218-c5e9-4c8f-ae26-b068b929d159"
      },
      "execution_count": 47,
      "outputs": [
        {
          "output_type": "stream",
          "name": "stdout",
          "text": [
            "Epoch 1/30\n",
            "313/313 [==============================] - 3s 5ms/step - loss: 1.8488 - accuracy: 0.3540 - val_loss: 1.7344 - val_accuracy: 0.3886\n",
            "Epoch 2/30\n",
            "313/313 [==============================] - 2s 5ms/step - loss: 1.7314 - accuracy: 0.3977 - val_loss: 1.7107 - val_accuracy: 0.3976\n",
            "Epoch 3/30\n",
            "313/313 [==============================] - 2s 5ms/step - loss: 1.6866 - accuracy: 0.4126 - val_loss: 1.6642 - val_accuracy: 0.4177\n",
            "Epoch 4/30\n",
            "313/313 [==============================] - 1s 4ms/step - loss: 1.6513 - accuracy: 0.4286 - val_loss: 1.6560 - val_accuracy: 0.4232\n",
            "Epoch 5/30\n",
            "313/313 [==============================] - 1s 5ms/step - loss: 1.6184 - accuracy: 0.4367 - val_loss: 1.6269 - val_accuracy: 0.4284\n",
            "Epoch 6/30\n",
            "313/313 [==============================] - 1s 4ms/step - loss: 1.5868 - accuracy: 0.4494 - val_loss: 1.6263 - val_accuracy: 0.4317\n",
            "Epoch 7/30\n",
            "313/313 [==============================] - 1s 4ms/step - loss: 1.5677 - accuracy: 0.4590 - val_loss: 1.6190 - val_accuracy: 0.4354\n",
            "Epoch 8/30\n",
            "313/313 [==============================] - 1s 4ms/step - loss: 1.5453 - accuracy: 0.4649 - val_loss: 1.6016 - val_accuracy: 0.4425\n",
            "Epoch 9/30\n",
            "313/313 [==============================] - 2s 6ms/step - loss: 1.5258 - accuracy: 0.4709 - val_loss: 1.5811 - val_accuracy: 0.4499\n",
            "Epoch 10/30\n",
            "313/313 [==============================] - 2s 5ms/step - loss: 1.5018 - accuracy: 0.4803 - val_loss: 1.5819 - val_accuracy: 0.4517\n",
            "Epoch 11/30\n",
            "313/313 [==============================] - 2s 6ms/step - loss: 1.4850 - accuracy: 0.4850 - val_loss: 1.5884 - val_accuracy: 0.4417\n",
            "Epoch 12/30\n",
            "313/313 [==============================] - 2s 5ms/step - loss: 1.4703 - accuracy: 0.4893 - val_loss: 1.5630 - val_accuracy: 0.4557\n",
            "Epoch 13/30\n",
            "313/313 [==============================] - 1s 4ms/step - loss: 1.4519 - accuracy: 0.4928 - val_loss: 1.5621 - val_accuracy: 0.4565\n",
            "Epoch 14/30\n",
            "313/313 [==============================] - 1s 5ms/step - loss: 1.4406 - accuracy: 0.4972 - val_loss: 1.5590 - val_accuracy: 0.4580\n",
            "Epoch 15/30\n",
            "313/313 [==============================] - 1s 5ms/step - loss: 1.4156 - accuracy: 0.5054 - val_loss: 1.5496 - val_accuracy: 0.4562\n",
            "Epoch 16/30\n",
            "313/313 [==============================] - 1s 5ms/step - loss: 1.4046 - accuracy: 0.5088 - val_loss: 1.5477 - val_accuracy: 0.4600\n",
            "Epoch 17/30\n",
            "313/313 [==============================] - 1s 4ms/step - loss: 1.3869 - accuracy: 0.5167 - val_loss: 1.5288 - val_accuracy: 0.4672\n",
            "Epoch 18/30\n",
            "313/313 [==============================] - 1s 5ms/step - loss: 1.3755 - accuracy: 0.5198 - val_loss: 1.5278 - val_accuracy: 0.4659\n",
            "Epoch 19/30\n",
            "313/313 [==============================] - 2s 6ms/step - loss: 1.3632 - accuracy: 0.5225 - val_loss: 1.5297 - val_accuracy: 0.4646\n",
            "Epoch 20/30\n",
            "313/313 [==============================] - 1s 4ms/step - loss: 1.3404 - accuracy: 0.5312 - val_loss: 1.5288 - val_accuracy: 0.4714\n",
            "Epoch 21/30\n",
            "313/313 [==============================] - 1s 4ms/step - loss: 1.3300 - accuracy: 0.5355 - val_loss: 1.5239 - val_accuracy: 0.4736\n",
            "Epoch 22/30\n",
            "313/313 [==============================] - 1s 4ms/step - loss: 1.3162 - accuracy: 0.5388 - val_loss: 1.5259 - val_accuracy: 0.4672\n",
            "Epoch 23/30\n",
            "313/313 [==============================] - 1s 4ms/step - loss: 1.3058 - accuracy: 0.5420 - val_loss: 1.5336 - val_accuracy: 0.4654\n",
            "Epoch 24/30\n",
            "313/313 [==============================] - 1s 4ms/step - loss: 1.2886 - accuracy: 0.5476 - val_loss: 1.5215 - val_accuracy: 0.4691\n",
            "Epoch 25/30\n",
            "313/313 [==============================] - 1s 4ms/step - loss: 1.2859 - accuracy: 0.5488 - val_loss: 1.5173 - val_accuracy: 0.4763\n",
            "Epoch 26/30\n",
            "313/313 [==============================] - 1s 5ms/step - loss: 1.2746 - accuracy: 0.5536 - val_loss: 1.5241 - val_accuracy: 0.4762\n",
            "Epoch 27/30\n",
            "313/313 [==============================] - 2s 6ms/step - loss: 1.2668 - accuracy: 0.5577 - val_loss: 1.5257 - val_accuracy: 0.4713\n",
            "Epoch 28/30\n",
            "313/313 [==============================] - 2s 6ms/step - loss: 1.2533 - accuracy: 0.5604 - val_loss: 1.5224 - val_accuracy: 0.4713\n",
            "Epoch 29/30\n",
            "313/313 [==============================] - 1s 4ms/step - loss: 1.2412 - accuracy: 0.5640 - val_loss: 1.5308 - val_accuracy: 0.4782\n",
            "Epoch 30/30\n",
            "313/313 [==============================] - 1s 5ms/step - loss: 1.2324 - accuracy: 0.5670 - val_loss: 1.5186 - val_accuracy: 0.4810\n"
          ]
        }
      ]
    },
    {
      "cell_type": "markdown",
      "source": [
        "## 2.2 Exercise\n",
        "Change the [activation function of the dense layers (except the last one)](https://www.tensorflow.org/api_docs/python/tf/keras/layers/Dense) to rectified linear unit (ReLU) and the [weight initialization](https://www.tensorflow.org/api_docs/python/tf/keras/initializers) to the theoretically best one. Use the original model's code.\n",
        "\n",
        "Compile and train the model. Inspect the effects of the modifications."
      ],
      "metadata": {
        "id": "zQCDM1o1BBtF"
      }
    },
    {
      "cell_type": "code",
      "source": [
        "# model definition with relu\n",
        "model = Sequential()\n",
        "model.add(Dense(128, activation='relu', kernel_initializer=keras.initializers.GlorotNormal(), input_shape=(flattened_dim,))) ## With relu the HeNormal (or Kaiming normal should work better, but it seems that \n",
        "                                                                                                                             ## GlorotNormal performs better.\n",
        "model.add(Dense(128, activation='relu', kernel_initializer=keras.initializers.GlorotNormal()))\n",
        "model.add(Dense(nb_classes, activation='softmax'))\n",
        "\n",
        "# loss function and optimizer\n",
        "model.compile(loss='categorical_crossentropy', optimizer='adam', metrics=['accuracy'])"
      ],
      "metadata": {
        "id": "YjHAAh-wGu9O"
      },
      "execution_count": 39,
      "outputs": []
    },
    {
      "cell_type": "code",
      "source": [
        "# training\n",
        "network_history = model.fit(X_train, Y_train, \n",
        "                            validation_data=(X_valid,Y_valid),\n",
        "                            batch_size=128,                             \n",
        "                            epochs=40, \n",
        "                            verbose=1)"
      ],
      "metadata": {
        "id": "rarwKM1wGxMz",
        "colab": {
          "base_uri": "https://localhost:8080/"
        },
        "outputId": "a7e9006e-a86c-47ec-bd1e-9d15ba7b9658"
      },
      "execution_count": 40,
      "outputs": [
        {
          "output_type": "stream",
          "name": "stdout",
          "text": [
            "Epoch 1/40\n",
            "313/313 [==============================] - 3s 5ms/step - loss: 1.7606 - accuracy: 0.3891 - val_loss: 1.6155 - val_accuracy: 0.4360\n",
            "Epoch 2/40\n",
            "313/313 [==============================] - 1s 4ms/step - loss: 1.5169 - accuracy: 0.4681 - val_loss: 1.5199 - val_accuracy: 0.4710\n",
            "Epoch 3/40\n",
            "313/313 [==============================] - 1s 5ms/step - loss: 1.3990 - accuracy: 0.5111 - val_loss: 1.5029 - val_accuracy: 0.4796\n",
            "Epoch 4/40\n",
            "313/313 [==============================] - 2s 6ms/step - loss: 1.3149 - accuracy: 0.5408 - val_loss: 1.5055 - val_accuracy: 0.4830\n",
            "Epoch 5/40\n",
            "313/313 [==============================] - 2s 5ms/step - loss: 1.2502 - accuracy: 0.5632 - val_loss: 1.4647 - val_accuracy: 0.4973\n",
            "Epoch 6/40\n",
            "313/313 [==============================] - 1s 4ms/step - loss: 1.1951 - accuracy: 0.5809 - val_loss: 1.4725 - val_accuracy: 0.4931\n",
            "Epoch 7/40\n",
            "313/313 [==============================] - 1s 4ms/step - loss: 1.1368 - accuracy: 0.6040 - val_loss: 1.4715 - val_accuracy: 0.5037\n",
            "Epoch 8/40\n",
            "313/313 [==============================] - 1s 4ms/step - loss: 1.0856 - accuracy: 0.6201 - val_loss: 1.4918 - val_accuracy: 0.5028\n",
            "Epoch 9/40\n",
            "313/313 [==============================] - 1s 5ms/step - loss: 1.0422 - accuracy: 0.6364 - val_loss: 1.5115 - val_accuracy: 0.5062\n",
            "Epoch 10/40\n",
            "313/313 [==============================] - 1s 4ms/step - loss: 0.9921 - accuracy: 0.6524 - val_loss: 1.5546 - val_accuracy: 0.5006\n",
            "Epoch 11/40\n",
            "313/313 [==============================] - 1s 5ms/step - loss: 0.9494 - accuracy: 0.6651 - val_loss: 1.5967 - val_accuracy: 0.4956\n",
            "Epoch 12/40\n",
            "313/313 [==============================] - 2s 5ms/step - loss: 0.9222 - accuracy: 0.6770 - val_loss: 1.5750 - val_accuracy: 0.4992\n",
            "Epoch 13/40\n",
            "313/313 [==============================] - 2s 5ms/step - loss: 0.8708 - accuracy: 0.6944 - val_loss: 1.6013 - val_accuracy: 0.5067\n",
            "Epoch 14/40\n",
            "313/313 [==============================] - 1s 4ms/step - loss: 0.8357 - accuracy: 0.7057 - val_loss: 1.6611 - val_accuracy: 0.5020\n",
            "Epoch 15/40\n",
            "313/313 [==============================] - 1s 4ms/step - loss: 0.8026 - accuracy: 0.7170 - val_loss: 1.7007 - val_accuracy: 0.5037\n",
            "Epoch 16/40\n",
            "313/313 [==============================] - 1s 4ms/step - loss: 0.7678 - accuracy: 0.7282 - val_loss: 1.7279 - val_accuracy: 0.4998\n",
            "Epoch 17/40\n",
            "313/313 [==============================] - 1s 4ms/step - loss: 0.7304 - accuracy: 0.7436 - val_loss: 1.8126 - val_accuracy: 0.4924\n",
            "Epoch 18/40\n",
            "313/313 [==============================] - 1s 5ms/step - loss: 0.7044 - accuracy: 0.7505 - val_loss: 1.8121 - val_accuracy: 0.4983\n",
            "Epoch 19/40\n",
            "313/313 [==============================] - 1s 4ms/step - loss: 0.6766 - accuracy: 0.7617 - val_loss: 1.8654 - val_accuracy: 0.5000\n",
            "Epoch 20/40\n",
            "313/313 [==============================] - 1s 4ms/step - loss: 0.6494 - accuracy: 0.7715 - val_loss: 1.9409 - val_accuracy: 0.4914\n",
            "Epoch 21/40\n",
            "313/313 [==============================] - 2s 5ms/step - loss: 0.6192 - accuracy: 0.7817 - val_loss: 1.9515 - val_accuracy: 0.4938\n",
            "Epoch 22/40\n",
            "313/313 [==============================] - 1s 5ms/step - loss: 0.5913 - accuracy: 0.7908 - val_loss: 2.0334 - val_accuracy: 0.4927\n",
            "Epoch 23/40\n",
            "313/313 [==============================] - 1s 4ms/step - loss: 0.5687 - accuracy: 0.7986 - val_loss: 2.1250 - val_accuracy: 0.4885\n",
            "Epoch 24/40\n",
            "313/313 [==============================] - 1s 4ms/step - loss: 0.5505 - accuracy: 0.8062 - val_loss: 2.1920 - val_accuracy: 0.4875\n",
            "Epoch 25/40\n",
            "313/313 [==============================] - 1s 4ms/step - loss: 0.5389 - accuracy: 0.8097 - val_loss: 2.2152 - val_accuracy: 0.4942\n",
            "Epoch 26/40\n",
            "313/313 [==============================] - 1s 4ms/step - loss: 0.4991 - accuracy: 0.8256 - val_loss: 2.2782 - val_accuracy: 0.4949\n",
            "Epoch 27/40\n",
            "313/313 [==============================] - 1s 4ms/step - loss: 0.4841 - accuracy: 0.8288 - val_loss: 2.3197 - val_accuracy: 0.4936\n",
            "Epoch 28/40\n",
            "313/313 [==============================] - 1s 5ms/step - loss: 0.4586 - accuracy: 0.8378 - val_loss: 2.4458 - val_accuracy: 0.4829\n",
            "Epoch 29/40\n",
            "313/313 [==============================] - 1s 4ms/step - loss: 0.4527 - accuracy: 0.8414 - val_loss: 2.4688 - val_accuracy: 0.4833\n",
            "Epoch 30/40\n",
            "313/313 [==============================] - 2s 5ms/step - loss: 0.4282 - accuracy: 0.8490 - val_loss: 2.5230 - val_accuracy: 0.4844\n",
            "Epoch 31/40\n",
            "313/313 [==============================] - 1s 5ms/step - loss: 0.4123 - accuracy: 0.8541 - val_loss: 2.6307 - val_accuracy: 0.4813\n",
            "Epoch 32/40\n",
            "313/313 [==============================] - 1s 5ms/step - loss: 0.4073 - accuracy: 0.8590 - val_loss: 2.6357 - val_accuracy: 0.4857\n",
            "Epoch 33/40\n",
            "313/313 [==============================] - 1s 4ms/step - loss: 0.4001 - accuracy: 0.8576 - val_loss: 2.6732 - val_accuracy: 0.4842\n",
            "Epoch 34/40\n",
            "313/313 [==============================] - 1s 5ms/step - loss: 0.3733 - accuracy: 0.8686 - val_loss: 2.7892 - val_accuracy: 0.4854\n",
            "Epoch 35/40\n",
            "313/313 [==============================] - 2s 6ms/step - loss: 0.3599 - accuracy: 0.8739 - val_loss: 2.8375 - val_accuracy: 0.4828\n",
            "Epoch 36/40\n",
            "313/313 [==============================] - 2s 6ms/step - loss: 0.3380 - accuracy: 0.8826 - val_loss: 2.9060 - val_accuracy: 0.4795\n",
            "Epoch 37/40\n",
            "313/313 [==============================] - 2s 7ms/step - loss: 0.3388 - accuracy: 0.8824 - val_loss: 2.9529 - val_accuracy: 0.4834\n",
            "Epoch 38/40\n",
            "313/313 [==============================] - 2s 7ms/step - loss: 0.3383 - accuracy: 0.8824 - val_loss: 3.0487 - val_accuracy: 0.4816\n",
            "Epoch 39/40\n",
            "313/313 [==============================] - 2s 5ms/step - loss: 0.3231 - accuracy: 0.8878 - val_loss: 3.1209 - val_accuracy: 0.4862\n",
            "Epoch 40/40\n",
            "313/313 [==============================] - 1s 4ms/step - loss: 0.3099 - accuracy: 0.8913 - val_loss: 3.1877 - val_accuracy: 0.4846\n"
          ]
        }
      ]
    },
    {
      "cell_type": "markdown",
      "source": [
        "# 2.3. Exercise\n",
        "Based on the modifications above, and by any further modifications (e.g. more layers, less layers, more neurons/layer, etc.) to the model design, find a combination that is able to achieve **validation accuracy, that is higher than 53%**.\n"
      ],
      "metadata": {
        "id": "j1tGVPdD-pp3"
      }
    },
    {
      "cell_type": "code",
      "source": [
        "es = 0.1"
      ],
      "metadata": {
        "id": "5dBQxJHIHrbd"
      },
      "execution_count": 41,
      "outputs": []
    },
    {
      "cell_type": "code",
      "source": [
        "# model definition with dropout\n",
        "model = Sequential()\n",
        "model.add(Dense(128, activation='relu', kernel_initializer=keras.initializers.GlorotNormal(), input_shape=(flattened_dim,)))\n",
        "model.add(Dropout(0.2))\n",
        "model.add(Dense(128, activation='relu', kernel_initializer=keras.initializers.GlorotNormal()))\n",
        "model.add(Dropout(0.3))\n",
        "model.add(Dense(nb_classes, activation='softmax'))\n",
        "\n",
        "# loss function and optimizer\n",
        "model.compile(loss='categorical_crossentropy', optimizer='adam', metrics=['accuracy'])"
      ],
      "metadata": {
        "id": "PuxHOqLt-3Nd"
      },
      "execution_count": 66,
      "outputs": []
    },
    {
      "cell_type": "code",
      "source": [
        "# training\n",
        "network_history = model.fit(X_train, Y_train, \n",
        "                            validation_data=(X_valid,Y_valid),\n",
        "                            batch_size=256,                             \n",
        "                            epochs=40, \n",
        "                            verbose=1,\n",
        "                            callbacks=keras.callbacks.EarlyStopping(patience=6))"
      ],
      "metadata": {
        "id": "u8tFNCNVHyt9",
        "colab": {
          "base_uri": "https://localhost:8080/"
        },
        "outputId": "53c38219-c354-4bad-ce96-2c590673706a"
      },
      "execution_count": 68,
      "outputs": [
        {
          "output_type": "stream",
          "name": "stdout",
          "text": [
            "Epoch 1/40\n",
            "157/157 [==============================] - 1s 7ms/step - loss: 1.0971 - accuracy: 0.6029 - val_loss: 1.3480 - val_accuracy: 0.5317\n",
            "Epoch 2/40\n",
            "157/157 [==============================] - 1s 6ms/step - loss: 1.0663 - accuracy: 0.6139 - val_loss: 1.3484 - val_accuracy: 0.5345\n",
            "Epoch 3/40\n",
            "157/157 [==============================] - 1s 6ms/step - loss: 1.0557 - accuracy: 0.6151 - val_loss: 1.3501 - val_accuracy: 0.5329\n",
            "Epoch 4/40\n",
            "157/157 [==============================] - 1s 6ms/step - loss: 1.0573 - accuracy: 0.6162 - val_loss: 1.3486 - val_accuracy: 0.5327\n",
            "Epoch 5/40\n",
            "157/157 [==============================] - 1s 6ms/step - loss: 1.0519 - accuracy: 0.6195 - val_loss: 1.3462 - val_accuracy: 0.5372\n",
            "Epoch 6/40\n",
            "157/157 [==============================] - 1s 6ms/step - loss: 1.0456 - accuracy: 0.6232 - val_loss: 1.3437 - val_accuracy: 0.5372\n",
            "Epoch 7/40\n",
            "157/157 [==============================] - 1s 6ms/step - loss: 1.0380 - accuracy: 0.6230 - val_loss: 1.3573 - val_accuracy: 0.5343\n",
            "Epoch 8/40\n",
            "157/157 [==============================] - 1s 7ms/step - loss: 1.0304 - accuracy: 0.6263 - val_loss: 1.3561 - val_accuracy: 0.5340\n",
            "Epoch 9/40\n",
            "157/157 [==============================] - 1s 9ms/step - loss: 1.0332 - accuracy: 0.6246 - val_loss: 1.3649 - val_accuracy: 0.5330\n",
            "Epoch 10/40\n",
            "157/157 [==============================] - 1s 7ms/step - loss: 1.0322 - accuracy: 0.6261 - val_loss: 1.3603 - val_accuracy: 0.5325\n",
            "Epoch 11/40\n",
            "157/157 [==============================] - 1s 6ms/step - loss: 1.0274 - accuracy: 0.6239 - val_loss: 1.3584 - val_accuracy: 0.5346\n",
            "Epoch 12/40\n",
            "157/157 [==============================] - 1s 6ms/step - loss: 1.0320 - accuracy: 0.6266 - val_loss: 1.3496 - val_accuracy: 0.5379\n"
          ]
        }
      ]
    },
    {
      "cell_type": "markdown",
      "source": [
        "# 3. Evaluation on test data and inference\n",
        "At this point, we will perform a basic evaluation and inference. With the model.evaluate function, the same metrics are calculated, that were used during training:"
      ],
      "metadata": {
        "id": "2FtKp-a2-A9m"
      }
    },
    {
      "cell_type": "code",
      "source": [
        "print(model.evaluate(X_test, Y_test))"
      ],
      "metadata": {
        "id": "I3_9wgDREUna",
        "colab": {
          "base_uri": "https://localhost:8080/"
        },
        "outputId": "6d5fb4b6-2a57-4f0e-a448-c684ba0619ed"
      },
      "execution_count": 69,
      "outputs": [
        {
          "output_type": "stream",
          "name": "stdout",
          "text": [
            "313/313 [==============================] - 1s 4ms/step - loss: 1.3377 - accuracy: 0.5343\n",
            "[1.337695837020874, 0.5343000292778015]\n"
          ]
        }
      ]
    },
    {
      "cell_type": "markdown",
      "source": [
        "we would like to see similar values, as in the validation set. If those are close to each other, then the generalization ability of the model is good (in case of an independent test-set)."
      ],
      "metadata": {
        "id": "ECHguBFtGL7f"
      }
    },
    {
      "cell_type": "markdown",
      "source": [
        "## 3.1. Exercise\n",
        "Predict the class of the first 10 elements in the test set, and compare the predicted values with the actual, target values in the test set. Hints:\n",
        "* you can use [model.predict](https://www.activestate.com/resources/quick-reads/how-to-use-a-model-to-do-predictions-with-keras/) for prediction\n",
        "* from the output you can select the largest value with the [argmax() function of Numpy](https://stackoverflow.com/questions/62358642/convert-one-hot-encoding-back-to-number-label). As there are multiple values, you have to call it with axis=1 parameter.\n",
        "* it is enought to compare the predictions and the targets by printing the values out and inspecting them."
      ],
      "metadata": {
        "id": "0Io4zYJeHjz6"
      }
    },
    {
      "cell_type": "code",
      "source": [
        "X_test.shape"
      ],
      "metadata": {
        "colab": {
          "base_uri": "https://localhost:8080/"
        },
        "id": "lTE2Uk4jZ1VU",
        "outputId": "2cb987dc-0f78-4ac6-9e53-ba8251819a82"
      },
      "execution_count": 70,
      "outputs": [
        {
          "output_type": "execute_result",
          "data": {
            "text/plain": [
              "(10000, 3072)"
            ]
          },
          "metadata": {},
          "execution_count": 70
        }
      ]
    },
    {
      "cell_type": "code",
      "source": [
        "preds = model.predict(X_test[:10])\n",
        "preds_dense = np.argmax(preds, axis = 1)"
      ],
      "metadata": {
        "id": "XEEyU7exILqF",
        "colab": {
          "base_uri": "https://localhost:8080/"
        },
        "outputId": "0b1f1904-1bc2-4042-90a6-fee92d14d591"
      },
      "execution_count": 71,
      "outputs": [
        {
          "output_type": "stream",
          "name": "stdout",
          "text": [
            "1/1 [==============================] - 0s 77ms/step\n"
          ]
        }
      ]
    },
    {
      "cell_type": "markdown",
      "source": [
        "Before comparision, you have to convert back the one-hot encoded target values the same way, as you converted the output of the neural network to class values with argmax() function."
      ],
      "metadata": {
        "id": "seZTEFI-I5cZ"
      }
    },
    {
      "cell_type": "code",
      "source": [
        "print(\"Target labels:\", np.argmax(Y_test[:10],axis=1))\n",
        "print(\"Predicted labels:\", preds_dense)"
      ],
      "metadata": {
        "id": "PHLvoMuIIkJ6",
        "colab": {
          "base_uri": "https://localhost:8080/"
        },
        "outputId": "1aeaf1f5-4e39-4ba8-ef46-7af60c569fca"
      },
      "execution_count": 72,
      "outputs": [
        {
          "output_type": "stream",
          "name": "stdout",
          "text": [
            "Target labels: [3 8 8 0 6 6 1 6 3 1]\n",
            "Predicted labels: [3 8 0 8 6 6 1 6 5 1]\n"
          ]
        }
      ]
    },
    {
      "cell_type": "code",
      "source": [],
      "metadata": {
        "id": "KUVRXddVfAVo"
      },
      "execution_count": null,
      "outputs": []
    }
  ]
}