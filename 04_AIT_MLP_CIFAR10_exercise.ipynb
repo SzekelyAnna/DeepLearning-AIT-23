{
  "nbformat": 4,
  "nbformat_minor": 0,
  "metadata": {
    "anaconda-cloud": {},
    "kernelspec": {
      "display_name": "Python 3",
      "language": "python",
      "name": "python3"
    },
    "language_info": {
      "codemirror_mode": {
        "name": "ipython",
        "version": 3
      },
      "file_extension": ".py",
      "mimetype": "text/x-python",
      "name": "python",
      "nbconvert_exporter": "python",
      "pygments_lexer": "ipython3",
      "version": "3.6.6"
    },
    "colab": {
      "provenance": []
    },
    "accelerator": "GPU"
  },
  "cells": [
    {
      "cell_type": "markdown",
      "metadata": {
        "id": "cW-EyI5Lxpqi"
      },
      "source": [
        "# Copyright\n",
        "\n",
        "<PRE>\n",
        "Copyright (c) 2023 Bálint Gyires-Tóth - All Rights Reserved\n",
        "You may use and modify this code for research and development purpuses.\n",
        "Using this code for educational purposes (self-paced or instructor led) without the permission of the author is prohibited.\n",
        "</PRE>"
      ]
    },
    {
      "cell_type": "markdown",
      "source": [
        "# Example of data exploration, modeling, regulartion and prediction\n",
        "Our exercise today involves loading a standard dataset using TensorFlow Keras API, exploring the data, building a simple neural network, and evaluating the effects of basic methods (activation functions, regularization, weight initialization, etc.). We then perform predictions on the test set and inspect the results. "
      ],
      "metadata": {
        "id": "3EX4cCa4WKJu"
      }
    },
    {
      "cell_type": "markdown",
      "source": [
        "# 1. Data\n",
        "The dataset we will use is the well-known CIFAR10 (Canadian Institute For Advanced Research). Explore the details on the Keras website first: https://keras.io/api/datasets/cifar10/\n",
        "\n",
        "After you explored the basic features of the data, let's load it into the memory and explore the shapes:"
      ],
      "metadata": {
        "id": "yY9fztIeWIKt"
      }
    },
    {
      "cell_type": "code",
      "source": [
        "from tensorflow.keras.datasets import cifar10\n",
        "from tensorflow.keras.utils import to_categorical\n",
        "import numpy as np"
      ],
      "metadata": {
        "id": "giRZKTjzX_7l"
      },
      "execution_count": 3,
      "outputs": []
    },
    {
      "cell_type": "code",
      "source": [
        "import keras"
      ],
      "metadata": {
        "id": "Al0peRP2N4DU"
      },
      "execution_count": 4,
      "outputs": []
    },
    {
      "cell_type": "code",
      "source": [
        "(X_train, Y_train), (X_test, Y_test) = cifar10.load_data()"
      ],
      "metadata": {
        "id": "bez7q0eiWQCK",
        "colab": {
          "base_uri": "https://localhost:8080/"
        },
        "outputId": "da0d0b70-5a08-45cc-f2cf-62d64362e191"
      },
      "execution_count": 5,
      "outputs": [
        {
          "output_type": "stream",
          "name": "stdout",
          "text": [
            "Downloading data from https://www.cs.toronto.edu/~kriz/cifar-10-python.tar.gz\n",
            "170498071/170498071 [==============================] - 4s 0us/step\n"
          ]
        }
      ]
    },
    {
      "cell_type": "code",
      "source": [
        "print(X_train.shape)\n",
        "print(X_test.shape)\n",
        "print(Y_train.shape)\n",
        "print(Y_test.shape)"
      ],
      "metadata": {
        "id": "2tJoRq5wXywi",
        "colab": {
          "base_uri": "https://localhost:8080/"
        },
        "outputId": "40673b81-e871-48dc-c4bf-71c3257360b9"
      },
      "execution_count": 6,
      "outputs": [
        {
          "output_type": "stream",
          "name": "stdout",
          "text": [
            "(50000, 32, 32, 3)\n",
            "(10000, 32, 32, 3)\n",
            "(50000, 1)\n",
            "(10000, 1)\n"
          ]
        }
      ]
    },
    {
      "cell_type": "markdown",
      "source": [
        "## 1.1. Exercise \n",
        "Display the first ten images of the training data. Hints:\n",
        "* Axis 0 refers to the separate images, e.g. X_train[0]\n",
        "* You can use the [Matplotlib Pyplot imshow function](https://matplotlib.org/stable/api/_as_gen/matplotlib.pyplot.imshow.html) for displaying the image. Just don't forget to import Plotly first!\n",
        "* A corresponding example, but you have to modify the code for your purpose: https://stackoverflow.com/questions/46615554/how-to-display-multiple-images-in-one-figure-correctly"
      ],
      "metadata": {
        "id": "zTCSGFyDlNvf"
      }
    },
    {
      "cell_type": "code",
      "source": [
        "X_train[0].shape"
      ],
      "metadata": {
        "id": "A3QN41-qvdMI",
        "outputId": "bbd8f39f-d425-4784-8926-73d3cbbdb3a7",
        "colab": {
          "base_uri": "https://localhost:8080/"
        }
      },
      "execution_count": 7,
      "outputs": [
        {
          "output_type": "execute_result",
          "data": {
            "text/plain": [
              "(32, 32, 3)"
            ]
          },
          "metadata": {},
          "execution_count": 7
        }
      ]
    },
    {
      "cell_type": "code",
      "source": [
        "import matplotlib.pyplot as plt\n",
        "\n",
        "fig = plt.figure(figsize=(8, 4))\n",
        "columns = 5\n",
        "rows = 2\n",
        "for i in range(1,11):\n",
        "    img = X_train[i]\n",
        "    fig.add_subplot(rows, columns, i)\n",
        "    plt.imshow(img)\n",
        "plt.show()"
      ],
      "metadata": {
        "id": "hIQhHTppmBdO",
        "colab": {
          "base_uri": "https://localhost:8080/",
          "height": 246
        },
        "outputId": "bb3b1a3e-a6aa-4502-850b-229a37c451a2"
      },
      "execution_count": 8,
      "outputs": [
        {
          "output_type": "display_data",
          "data": {
            "text/plain": [
              "<Figure size 576x288 with 10 Axes>"
            ],
            "image/png": "[encoded data removed]"
          },
          "metadata": {
            "needs_background": "light"
          }
        }
      ]
    },
    {
      "cell_type": "markdown",
      "source": [
        "Print the corresponding labels of the displayed images from the target variable (Y_train):"
      ],
      "metadata": {
        "id": "FAQkUWlmm-bc"
      }
    },
    {
      "cell_type": "code",
      "source": [
        "print(Y_train[:11])"
      ],
      "metadata": {
        "id": "AkOrWzghnJ78",
        "colab": {
          "base_uri": "https://localhost:8080/"
        },
        "outputId": "bd208d8a-5199-4066-c2ff-67bb15a5fb03"
      },
      "execution_count": 9,
      "outputs": [
        {
          "output_type": "stream",
          "name": "stdout",
          "text": [
            "[[6]\n",
            " [9]\n",
            " [9]\n",
            " [4]\n",
            " [1]\n",
            " [1]\n",
            " [2]\n",
            " [7]\n",
            " [8]\n",
            " [3]\n",
            " [4]]\n"
          ]
        }
      ]
    },
    {
      "cell_type": "markdown",
      "source": [
        "## 1.2. Exercise\n",
        "We will train a Multi-Layer Perceptron (MLP), which requires a 2 dimensional input: 0th axis refers to the datapoints (i.e. images), the 1th dimens to the input. As images are 3 dimensional (width, height, color channels), you have to reshape the images into vectors. We also call this flattening. \n",
        "\n",
        "In order to do so, calculate the size of the equivalent 1D vector of the image:"
      ],
      "metadata": {
        "id": "VX24g5FstsRU"
      }
    },
    {
      "cell_type": "code",
      "source": [
        "flattened_dim = 32*32*3\n",
        "print(flattened_dim)"
      ],
      "metadata": {
        "id": "hdoMyxHzuXZG",
        "colab": {
          "base_uri": "https://localhost:8080/"
        },
        "outputId": "4fdd052f-68cf-420a-bbec-fd060fcdf285"
      },
      "execution_count": 10,
      "outputs": [
        {
          "output_type": "stream",
          "name": "stdout",
          "text": [
            "3072\n"
          ]
        }
      ]
    },
    {
      "cell_type": "markdown",
      "source": [
        "After you calculated it, we can reshape the images, and covert the integer arrays into float arrays -- which are needed for the neural networks as input. Hint:\n",
        "* in the [reshape() function of Numpy](https://www.w3schools.com/python/numpy/numpy_array_reshape.asp) you can use -1 for one axis, to automatically calculate that value."
      ],
      "metadata": {
        "id": "WbqXJUSFubeC"
      }
    },
    {
      "cell_type": "code",
      "source": [
        "# reshape 3D tensors to 2D tensors\n",
        "X_train = X_train.reshape(-1, flattened_dim)\n",
        "X_test = X_test.reshape(-1, flattened_dim)\n",
        "\n",
        "# it is in int8 format, the neural network requires float32\n",
        "X_train = X_train.astype(\"float32\")\n",
        "X_test = X_test.astype(\"float32\")"
      ],
      "metadata": {
        "id": "vukOcBM0XzSj"
      },
      "execution_count": 11,
      "outputs": []
    },
    {
      "cell_type": "code",
      "source": [
        "X_test.dtype"
      ],
      "metadata": {
        "id": "Tlj_YIvaxBaF",
        "outputId": "72d60160-687e-439f-ca46-1f1713765ff1",
        "colab": {
          "base_uri": "https://localhost:8080/"
        }
      },
      "execution_count": 12,
      "outputs": [
        {
          "output_type": "execute_result",
          "data": {
            "text/plain": [
              "dtype('float32')"
            ]
          },
          "metadata": {},
          "execution_count": 12
        }
      ]
    },
    {
      "cell_type": "markdown",
      "source": [
        "## 1.3. Exercise\n",
        "As the next step, let's split the training data into training and validation data. 80% of the original training data should be the final training data, and 20% the validation.\n",
        "You should use Numpy indexing to select the first 80% of X_train as final X_train, and the last 20% as X_valid. Hints: \n",
        "* https://datascienceparichay.com/article/numpy-array-first-n-rows/\n",
        "* https://datascienceparichay.com/article/numpy-array-last-n-rows/"
      ],
      "metadata": {
        "id": "DO79AdIdvVfD"
      }
    },
    {
      "cell_type": "code",
      "source": [
        "X_train[0:3].shape"
      ],
      "metadata": {
        "id": "pwxw2HMXz2aG",
        "outputId": "6f1d16d8-e8c2-49dc-e560-16f9455457ed",
        "colab": {
          "base_uri": "https://localhost:8080/"
        }
      },
      "execution_count": 13,
      "outputs": [
        {
          "output_type": "execute_result",
          "data": {
            "text/plain": [
              "(3, 3072)"
            ]
          },
          "metadata": {},
          "execution_count": 13
        }
      ]
    },
    {
      "cell_type": "code",
      "source": [
        "X_train.shape"
      ],
      "metadata": {
        "id": "UWO6upZhzwmy",
        "outputId": "2a107668-bbcf-4d34-9b4f-0d2f0be66bc9",
        "colab": {
          "base_uri": "https://localhost:8080/"
        }
      },
      "execution_count": 14,
      "outputs": [
        {
          "output_type": "execute_result",
          "data": {
            "text/plain": [
              "(50000, 3072)"
            ]
          },
          "metadata": {},
          "execution_count": 14
        }
      ]
    },
    {
      "cell_type": "code",
      "source": [
        "X_train[40000:].shape"
      ],
      "metadata": {
        "id": "B5TNq1ZYyKP5",
        "outputId": "a5447d99-c44f-43c9-a401-e5397d1af15e",
        "colab": {
          "base_uri": "https://localhost:8080/"
        }
      },
      "execution_count": 15,
      "outputs": [
        {
          "output_type": "execute_result",
          "data": {
            "text/plain": [
              "(10000, 3072)"
            ]
          },
          "metadata": {},
          "execution_count": 15
        }
      ]
    },
    {
      "cell_type": "code",
      "source": [],
      "metadata": {
        "id": "Gm1oi3ECyXfw"
      },
      "execution_count": 15,
      "outputs": []
    },
    {
      "cell_type": "code",
      "source": [
        "train_ratio  = 0.8\n",
        "train_length = X_train.shape[0] # length of the training data\n",
        "train_split  = train_ratio # where to split the training and validation data\n",
        "X_valid, Y_valid = X_train[0:int(X_train.shape[0]*0.2)], Y_train[0:int(X_train.shape[0]*0.2)]\n",
        "X_train, Y_train = X_train[int(X_train.shape[0]*0.2):], Y_train[int(X_train.shape[0]*0.2):]"
      ],
      "metadata": {
        "id": "mRwuWxxIxLgN"
      },
      "execution_count": 16,
      "outputs": []
    },
    {
      "cell_type": "code",
      "source": [
        "print(X_valid.shape, Y_valid.shape)"
      ],
      "metadata": {
        "id": "af7zKAdn1YCC",
        "outputId": "078d2c43-4b70-42f0-fb55-13f7091eacd8",
        "colab": {
          "base_uri": "https://localhost:8080/"
        }
      },
      "execution_count": 17,
      "outputs": [
        {
          "output_type": "stream",
          "name": "stdout",
          "text": [
            "(10000, 3072) (10000, 1)\n"
          ]
        }
      ]
    },
    {
      "cell_type": "code",
      "source": [
        "print(X_train.shape, X_train.shape)"
      ],
      "metadata": {
        "id": "ULGp2QLX1frp",
        "outputId": "436fa8cd-1a7f-4256-9b9f-cd6b22f9a252",
        "colab": {
          "base_uri": "https://localhost:8080/"
        }
      },
      "execution_count": 18,
      "outputs": [
        {
          "output_type": "stream",
          "name": "stdout",
          "text": [
            "(40000, 3072) (40000, 3072)\n"
          ]
        }
      ]
    },
    {
      "cell_type": "markdown",
      "source": [
        "## 1.4. Exercise\n",
        "As the last step of input data preparation, the data should be standardized. Calculate the mean and variance of the training data (elementvise -- so for each value of the flattened image you should get a mean and variance for the training data along 0th axis). Hint: \n",
        "* https://stackoverflow.com/questions/70626231/how-to-calculate-mean-variance-standard-deviation-per-index-of-array"
      ],
      "metadata": {
        "id": "z05y_QWDxWER"
      }
    },
    {
      "cell_type": "code",
      "source": [
        "mean = np.mean(X_train, axis=0)\n",
        "std  = np.std(X_train, axis=0)"
      ],
      "metadata": {
        "id": "TSZbvWCBx8Ea"
      },
      "execution_count": 19,
      "outputs": []
    },
    {
      "cell_type": "code",
      "source": [
        "mean.shape"
      ],
      "metadata": {
        "id": "DOlg8fga2ZVU",
        "outputId": "199b24bf-97a2-42b7-a6a8-a5b4119ba974",
        "colab": {
          "base_uri": "https://localhost:8080/"
        }
      },
      "execution_count": 20,
      "outputs": [
        {
          "output_type": "execute_result",
          "data": {
            "text/plain": [
              "(3072,)"
            ]
          },
          "metadata": {},
          "execution_count": 20
        }
      ]
    },
    {
      "cell_type": "markdown",
      "source": [
        "Next, use the resulting values to standardize the training, validation and test data by substracting the mean and dividing the result with the standard deviation."
      ],
      "metadata": {
        "id": "6WRHKkkjyN1S"
      }
    },
    {
      "cell_type": "code",
      "source": [
        "X_train = (X_train-mean)/std\n",
        "X_valid = (X_valid-mean)/std\n",
        "X_test  = (X_test-mean)/std"
      ],
      "metadata": {
        "id": "2ESLP1EIyB2J"
      },
      "execution_count": 21,
      "outputs": []
    },
    {
      "cell_type": "markdown",
      "source": [
        "## 1.5. Exercise\n",
        "And as the last step, convert the dense representation of the classes (i.e. 0,1,2,3...9) to one-hot encoding (0 = [1 0 0 0 0 0 0 0 0 0], 1 = [0 1 0 0 0 0 0 0 0 0] ... 9 = [0 0 0 0 0 0 0 0 0 1]). To do this, first, calculate the number of unique elements in the target training data. Hints:\n",
        "* use the [unique() function](https://numpy.org/doc/stable/reference/generated/numpy.unique.html) of Numpy to list the unique elements\n",
        "* you can count the number of elements in a list with the [len() function](https://www.w3schools.com/python/ref_func_len.asp)"
      ],
      "metadata": {
        "id": "ooHCnUin7r4o"
      }
    },
    {
      "cell_type": "code",
      "source": [
        "nb_classes = len(np.unique(Y_train))"
      ],
      "metadata": {
        "id": "i0LAO9cs8KEE"
      },
      "execution_count": 22,
      "outputs": []
    },
    {
      "cell_type": "markdown",
      "source": [
        "Doublecheck, if the same number of classes exists in the validation and test target data:"
      ],
      "metadata": {
        "id": "BvM6XhGe8JU9"
      }
    },
    {
      "cell_type": "code",
      "source": [
        "print(\"Validation data has the same number of classes, as the training data:\", nb_classes == len(np.unique(Y_valid)))\n",
        "print(\"Test data has the same number of classes, as the training data:\", nb_classes == len(np.unique(Y_test)))"
      ],
      "metadata": {
        "id": "eZFNSsyx_Py2",
        "colab": {
          "base_uri": "https://localhost:8080/"
        },
        "outputId": "79b7d2f9-9a08-4fcb-fdc6-1ea547429475"
      },
      "execution_count": null,
      "outputs": [
        {
          "output_type": "stream",
          "name": "stdout",
          "text": [
            "Validation data has the same number of classes, as the training data: True\n",
            "Test data has the same number of classes, as the training data: True\n"
          ]
        }
      ]
    },
    {
      "cell_type": "markdown",
      "source": [
        "And convert the dense representation into one-hot encoding. Hint:\n",
        "* use the [to_categorical function](https://www.tensorflow.org/api_docs/python/tf/keras/utils/to_categorical) with the calculated nb_classes\n"
      ],
      "metadata": {
        "id": "mJM-iBmR8dLe"
      }
    },
    {
      "cell_type": "code",
      "source": [
        "Y_train = keras.utils.to_categorical(Y_train, num_classes=nb_classes, dtype='float32')\n",
        "Y_valid = keras.utils.to_categorical(Y_valid, num_classes=nb_classes, dtype='float32')\n",
        "Y_test  = keras.utils.to_categorical(Y_test, num_classes=nb_classes, dtype='float32')"
      ],
      "metadata": {
        "id": "xwZ4OJ6I8lba"
      },
      "execution_count": 23,
      "outputs": []
    },
    {
      "cell_type": "markdown",
      "source": [
        "## Final check of data preparation\n",
        "Now, lets check the shapes and mean and standard deviation of the training, validation and test data."
      ],
      "metadata": {
        "id": "LshN2OSsv3TZ"
      }
    },
    {
      "cell_type": "code",
      "source": [
        "print(\"Shapes of the training, validation and test input data:\", X_train.shape, X_valid.shape, X_test.shape)\n",
        "print(\"Shapes of the training, validation and test output data:\", Y_train.shape, Y_valid.shape, Y_test.shape)\n",
        "print(\"Mean values of the training, validation and test input data:\", X_train.mean(), X_valid.mean(), X_test.mean())\n",
        "print(\"Standard deviation of the training, validation and test input data:\", X_train.std(), X_valid.std(), X_test.std())"
      ],
      "metadata": {
        "id": "O_jdJVcvX0vi",
        "colab": {
          "base_uri": "https://localhost:8080/"
        },
        "outputId": "76ae5f2c-1dec-4374-c370-3c4d1cd2c139"
      },
      "execution_count": 24,
      "outputs": [
        {
          "output_type": "stream",
          "name": "stdout",
          "text": [
            "Shapes of the training, validation and test input data: (40000, 3072) (10000, 3072) (10000, 3072)\n",
            "Shapes of the training, validation and test output data: (40000, 10) (10000, 10) (10000, 10)\n",
            "Mean values of the training, validation and test input data: -1.8725792e-09 0.006143087 0.014110389\n",
            "Standard deviation of the training, validation and test input data: 1.0000019 1.0036353 0.99924415\n"
          ]
        }
      ]
    },
    {
      "cell_type": "markdown",
      "source": [
        "Don't worry, if the mean and standard deviation of the validation and test data are not exactly 0 and 1, but these might be very mear to it (e.g. 0.01 mean, 0.99 variance)."
      ],
      "metadata": {
        "id": "5GtAOOoezmZY"
      }
    },
    {
      "cell_type": "markdown",
      "metadata": {
        "id": "cJ14oyZExpqj"
      },
      "source": [
        "# 2. Training "
      ]
    },
    {
      "cell_type": "markdown",
      "metadata": {
        "id": "s4ZXYRMBxpql"
      },
      "source": [
        "Let us begin with a simple example of creating a small neural network without regularization and training it with actual data. The purpose of this is to provide you with an example as to how to proceed with the next exercise. "
      ]
    },
    {
      "cell_type": "code",
      "source": [
        "# imports \n",
        "import numpy as np\n",
        "import matplotlib.pyplot as plt\n",
        "from tensorflow.keras.models import Sequential\n",
        "from tensorflow.keras.layers import Dense, Embedding, Flatten, Dropout\n",
        "from tensorflow.keras.initializers import HeNormal\n",
        "from tensorflow.keras.callbacks import EarlyStopping"
      ],
      "metadata": {
        "id": "6-8Q6ll7ZDgq"
      },
      "execution_count": 25,
      "outputs": []
    },
    {
      "cell_type": "code",
      "source": [
        "# model definition\n",
        "model = Sequential()\n",
        "model.add(Dense(128, activation='tanh', input_shape=(flattened_dim,)))\n",
        "model.add(Dense(128, activation='tanh'))\n",
        "model.add(Dense(nb_classes, activation='softmax'))\n",
        "\n",
        "# loss function and optimizer\n",
        "model.compile(loss='categorical_crossentropy', optimizer='adam', metrics=['accuracy'])"
      ],
      "metadata": {
        "id": "pke6w3CD8DHp"
      },
      "execution_count": 26,
      "outputs": []
    },
    {
      "cell_type": "code",
      "metadata": {
        "id": "CZbOR76QxprC",
        "colab": {
          "base_uri": "https://localhost:8080/"
        },
        "outputId": "56a20bfc-f8c3-41d1-bed0-971b6a84f538"
      },
      "source": [
        "# training\n",
        "network_history = model.fit(X_train, Y_train, \n",
        "                            validation_data=(X_valid,Y_valid),\n",
        "                            batch_size=128,                             \n",
        "                            epochs=40, \n",
        "                            verbose=1)"
      ],
      "execution_count": 27,
      "outputs": [
        {
          "output_type": "stream",
          "name": "stdout",
          "text": [
            "Epoch 1/40\n",
            "313/313 [==============================] - 7s 6ms/step - loss: 1.8231 - accuracy: 0.3630 - val_loss: 1.7311 - val_accuracy: 0.3877\n",
            "Epoch 2/40\n",
            "313/313 [==============================] - 2s 5ms/step - loss: 1.6946 - accuracy: 0.4123 - val_loss: 1.6943 - val_accuracy: 0.4087\n",
            "Epoch 3/40\n",
            "313/313 [==============================] - 1s 4ms/step - loss: 1.6425 - accuracy: 0.4308 - val_loss: 1.6767 - val_accuracy: 0.4202\n",
            "Epoch 4/40\n",
            "313/313 [==============================] - 1s 4ms/step - loss: 1.5994 - accuracy: 0.4487 - val_loss: 1.6548 - val_accuracy: 0.4238\n",
            "Epoch 5/40\n",
            "313/313 [==============================] - 1s 4ms/step - loss: 1.5641 - accuracy: 0.4606 - val_loss: 1.6454 - val_accuracy: 0.4259\n",
            "Epoch 6/40\n",
            "313/313 [==============================] - 1s 4ms/step - loss: 1.5404 - accuracy: 0.4666 - val_loss: 1.6442 - val_accuracy: 0.4249\n",
            "Epoch 7/40\n",
            "313/313 [==============================] - 1s 4ms/step - loss: 1.5092 - accuracy: 0.4748 - val_loss: 1.6198 - val_accuracy: 0.4355\n",
            "Epoch 8/40\n",
            "313/313 [==============================] - 1s 4ms/step - loss: 1.4782 - accuracy: 0.4901 - val_loss: 1.6042 - val_accuracy: 0.4404\n",
            "Epoch 9/40\n",
            "313/313 [==============================] - 1s 5ms/step - loss: 1.4512 - accuracy: 0.4971 - val_loss: 1.5986 - val_accuracy: 0.4481\n",
            "Epoch 10/40\n",
            "313/313 [==============================] - 2s 5ms/step - loss: 1.4240 - accuracy: 0.5057 - val_loss: 1.5948 - val_accuracy: 0.4505\n",
            "Epoch 11/40\n",
            "313/313 [==============================] - 2s 5ms/step - loss: 1.4034 - accuracy: 0.5117 - val_loss: 1.5905 - val_accuracy: 0.4455\n",
            "Epoch 12/40\n",
            "313/313 [==============================] - 1s 4ms/step - loss: 1.3781 - accuracy: 0.5250 - val_loss: 1.5867 - val_accuracy: 0.4520\n",
            "Epoch 13/40\n",
            "313/313 [==============================] - 1s 4ms/step - loss: 1.3576 - accuracy: 0.5296 - val_loss: 1.5824 - val_accuracy: 0.4590\n",
            "Epoch 14/40\n",
            "313/313 [==============================] - 1s 5ms/step - loss: 1.3373 - accuracy: 0.5393 - val_loss: 1.5945 - val_accuracy: 0.4478\n",
            "Epoch 15/40\n",
            "313/313 [==============================] - 1s 4ms/step - loss: 1.3198 - accuracy: 0.5427 - val_loss: 1.5797 - val_accuracy: 0.4571\n",
            "Epoch 16/40\n",
            "313/313 [==============================] - 1s 5ms/step - loss: 1.2886 - accuracy: 0.5533 - val_loss: 1.5915 - val_accuracy: 0.4544\n",
            "Epoch 17/40\n",
            "313/313 [==============================] - 1s 4ms/step - loss: 1.2695 - accuracy: 0.5618 - val_loss: 1.5855 - val_accuracy: 0.4554\n",
            "Epoch 18/40\n",
            "313/313 [==============================] - 1s 4ms/step - loss: 1.2558 - accuracy: 0.5631 - val_loss: 1.5923 - val_accuracy: 0.4575\n",
            "Epoch 19/40\n",
            "313/313 [==============================] - 2s 5ms/step - loss: 1.2320 - accuracy: 0.5751 - val_loss: 1.5915 - val_accuracy: 0.4598\n",
            "Epoch 20/40\n",
            "313/313 [==============================] - 2s 5ms/step - loss: 1.2123 - accuracy: 0.5782 - val_loss: 1.6016 - val_accuracy: 0.4530\n",
            "Epoch 21/40\n",
            "313/313 [==============================] - 1s 4ms/step - loss: 1.1932 - accuracy: 0.5855 - val_loss: 1.6176 - val_accuracy: 0.4532\n",
            "Epoch 22/40\n",
            "313/313 [==============================] - 1s 4ms/step - loss: 1.1738 - accuracy: 0.5938 - val_loss: 1.6127 - val_accuracy: 0.4602\n",
            "Epoch 23/40\n",
            "313/313 [==============================] - 1s 4ms/step - loss: 1.1644 - accuracy: 0.5955 - val_loss: 1.6104 - val_accuracy: 0.4571\n",
            "Epoch 24/40\n",
            "313/313 [==============================] - 1s 4ms/step - loss: 1.1401 - accuracy: 0.6052 - val_loss: 1.6213 - val_accuracy: 0.4562\n",
            "Epoch 25/40\n",
            "313/313 [==============================] - 1s 4ms/step - loss: 1.1271 - accuracy: 0.6135 - val_loss: 1.6397 - val_accuracy: 0.4523\n",
            "Epoch 26/40\n",
            "313/313 [==============================] - 1s 4ms/step - loss: 1.0967 - accuracy: 0.6217 - val_loss: 1.6416 - val_accuracy: 0.4516\n",
            "Epoch 27/40\n",
            "313/313 [==============================] - 1s 5ms/step - loss: 1.0866 - accuracy: 0.6237 - val_loss: 1.6425 - val_accuracy: 0.4541\n",
            "Epoch 28/40\n",
            "313/313 [==============================] - 2s 6ms/step - loss: 1.0668 - accuracy: 0.6340 - val_loss: 1.6592 - val_accuracy: 0.4497\n",
            "Epoch 29/40\n",
            "313/313 [==============================] - 1s 4ms/step - loss: 1.0521 - accuracy: 0.6373 - val_loss: 1.6612 - val_accuracy: 0.4553\n",
            "Epoch 30/40\n",
            "313/313 [==============================] - 1s 4ms/step - loss: 1.0364 - accuracy: 0.6441 - val_loss: 1.6805 - val_accuracy: 0.4524\n",
            "Epoch 31/40\n",
            "313/313 [==============================] - 1s 4ms/step - loss: 1.0193 - accuracy: 0.6493 - val_loss: 1.6958 - val_accuracy: 0.4482\n",
            "Epoch 32/40\n",
            "313/313 [==============================] - 1s 4ms/step - loss: 1.0065 - accuracy: 0.6546 - val_loss: 1.6962 - val_accuracy: 0.4550\n",
            "Epoch 33/40\n",
            "313/313 [==============================] - 1s 4ms/step - loss: 0.9902 - accuracy: 0.6589 - val_loss: 1.7046 - val_accuracy: 0.4502\n",
            "Epoch 34/40\n",
            "313/313 [==============================] - 1s 4ms/step - loss: 0.9734 - accuracy: 0.6654 - val_loss: 1.7275 - val_accuracy: 0.4521\n",
            "Epoch 35/40\n",
            "313/313 [==============================] - 1s 4ms/step - loss: 0.9519 - accuracy: 0.6719 - val_loss: 1.7551 - val_accuracy: 0.4485\n",
            "Epoch 36/40\n",
            "313/313 [==============================] - 2s 5ms/step - loss: 0.9370 - accuracy: 0.6788 - val_loss: 1.7507 - val_accuracy: 0.4474\n",
            "Epoch 37/40\n",
            "313/313 [==============================] - 2s 5ms/step - loss: 0.9224 - accuracy: 0.6818 - val_loss: 1.7662 - val_accuracy: 0.4530\n",
            "Epoch 38/40\n",
            "313/313 [==============================] - 1s 5ms/step - loss: 0.9243 - accuracy: 0.6824 - val_loss: 1.7724 - val_accuracy: 0.4496\n",
            "Epoch 39/40\n",
            "313/313 [==============================] - 1s 4ms/step - loss: 0.8980 - accuracy: 0.6911 - val_loss: 1.7957 - val_accuracy: 0.4434\n",
            "Epoch 40/40\n",
            "313/313 [==============================] - 1s 4ms/step - loss: 0.8903 - accuracy: 0.6954 - val_loss: 1.8035 - val_accuracy: 0.4382\n"
          ]
        }
      ]
    },
    {
      "cell_type": "markdown",
      "metadata": {
        "id": "uFqhzV85xprJ"
      },
      "source": [
        "Let's plot the training and validation loss and accuracy curves:"
      ]
    },
    {
      "cell_type": "code",
      "metadata": {
        "id": "BYmXGkLCxprK",
        "colab": {
          "base_uri": "https://localhost:8080/",
          "height": 541
        },
        "outputId": "eb646f1c-ef19-4b10-c54b-908c451fd046"
      },
      "source": [
        "def plot_history(network_history):\n",
        "    plt.figure()\n",
        "    plt.xlabel('Epochs')\n",
        "    plt.ylabel('Loss')\n",
        "    plt.plot(network_history.history['loss'])\n",
        "    plt.plot(network_history.history['val_loss'])\n",
        "    plt.legend(['Training', 'Validation'])\n",
        "\n",
        "    plt.figure()\n",
        "    plt.xlabel('Epochs')\n",
        "    plt.ylabel('Accuracy')\n",
        "    plt.plot(network_history.history['accuracy'])\n",
        "    plt.plot(network_history.history['val_accuracy'])\n",
        "    plt.legend(['Training', 'Validation'], loc='lower right')\n",
        "    plt.show()\n",
        "\n",
        "plot_history(network_history)"
      ],
      "execution_count": 28,
      "outputs": [
        {
          "output_type": "display_data",
          "data": {
            "text/plain": [
              "<Figure size 432x288 with 1 Axes>"
            ],
            "image/png": "[encoded data removed]"
          },
          "metadata": {
            "needs_background": "light"
          }
        },
        {
          "output_type": "display_data",
          "data": {
            "text/plain": [
              "<Figure size 432x288 with 1 Axes>"
            ],
            "image/png": "[encoded data removed]"
          },
          "metadata": {
            "needs_background": "light"
          }
        }
      ]
    },
    {
      "cell_type": "markdown",
      "source": [
        "What do you think? Does it overfit? "
      ],
      "metadata": {
        "id": "tgG7QeXF-dx6"
      }
    },
    {
      "cell_type": "markdown",
      "metadata": {
        "id": "_Q9rIeBBxprO"
      },
      "source": [
        "# Inspecting the model"
      ]
    },
    {
      "cell_type": "code",
      "metadata": {
        "id": "6r2AmmoMxprP",
        "colab": {
          "base_uri": "https://localhost:8080/"
        },
        "outputId": "f7cb1be6-0856-44c6-f566-7205596d60a6"
      },
      "source": [
        "model.summary()"
      ],
      "execution_count": 29,
      "outputs": [
        {
          "output_type": "stream",
          "name": "stdout",
          "text": [
            "Model: \"sequential\"\n",
            "_________________________________________________________________\n",
            " Layer (type)                Output Shape              Param #   \n",
            "=================================================================\n",
            " dense (Dense)               (None, 128)               393344    \n",
            "                                                                 \n",
            " dense_1 (Dense)             (None, 128)               16512     \n",
            "                                                                 \n",
            " dense_2 (Dense)             (None, 10)                1290      \n",
            "                                                                 \n",
            "=================================================================\n",
            "Total params: 411,146\n",
            "Trainable params: 411,146\n",
            "Non-trainable params: 0\n",
            "_________________________________________________________________\n"
          ]
        }
      ]
    },
    {
      "cell_type": "code",
      "metadata": {
        "id": "D3-bVDVuxprS",
        "colab": {
          "base_uri": "https://localhost:8080/"
        },
        "outputId": "e752884d-46a3-47b7-c438-6bc5da67ee8a"
      },
      "source": [
        "print('Input: ', model.input)"
      ],
      "execution_count": 30,
      "outputs": [
        {
          "output_type": "stream",
          "name": "stdout",
          "text": [
            "Input:  KerasTensor(type_spec=TensorSpec(shape=(None, 3072), dtype=tf.float32, name='dense_input'), name='dense_input', description=\"created by layer 'dense_input'\")\n"
          ]
        }
      ]
    },
    {
      "cell_type": "code",
      "metadata": {
        "id": "Da2OJ3DmxprX",
        "colab": {
          "base_uri": "https://localhost:8080/"
        },
        "outputId": "550400f8-d962-47be-fbbb-d4b4e7de6795"
      },
      "source": [
        "print('Layers:\\n')\n",
        "for layer in model.layers:\n",
        "    print(\"Layer's name: \", layer.name, ', trainable: ', layer.trainable)\n",
        "    print(layer.get_config(),'\\n')"
      ],
      "execution_count": 31,
      "outputs": [
        {
          "output_type": "stream",
          "name": "stdout",
          "text": [
            "Layers:\n",
            "\n",
            "Layer's name:  dense , trainable:  True\n",
            "{'name': 'dense', 'trainable': True, 'dtype': 'float32', 'batch_input_shape': (None, 3072), 'units': 128, 'activation': 'tanh', 'use_bias': True, 'kernel_initializer': {'class_name': 'GlorotUniform', 'config': {'seed': None}}, 'bias_initializer': {'class_name': 'Zeros', 'config': {}}, 'kernel_regularizer': None, 'bias_regularizer': None, 'activity_regularizer': None, 'kernel_constraint': None, 'bias_constraint': None} \n",
            "\n",
            "Layer's name:  dense_1 , trainable:  True\n",
            "{'name': 'dense_1', 'trainable': True, 'dtype': 'float32', 'units': 128, 'activation': 'tanh', 'use_bias': True, 'kernel_initializer': {'class_name': 'GlorotUniform', 'config': {'seed': None}}, 'bias_initializer': {'class_name': 'Zeros', 'config': {}}, 'kernel_regularizer': None, 'bias_regularizer': None, 'activity_regularizer': None, 'kernel_constraint': None, 'bias_constraint': None} \n",
            "\n",
            "Layer's name:  dense_2 , trainable:  True\n",
            "{'name': 'dense_2', 'trainable': True, 'dtype': 'float32', 'units': 10, 'activation': 'softmax', 'use_bias': True, 'kernel_initializer': {'class_name': 'GlorotUniform', 'config': {'seed': None}}, 'bias_initializer': {'class_name': 'Zeros', 'config': {}}, 'kernel_regularizer': None, 'bias_regularizer': None, 'activity_regularizer': None, 'kernel_constraint': None, 'bias_constraint': None} \n",
            "\n"
          ]
        }
      ]
    },
    {
      "cell_type": "code",
      "metadata": {
        "id": "AtVX3M3lxprc",
        "colab": {
          "base_uri": "https://localhost:8080/"
        },
        "outputId": "78eb0831-1fb1-4b72-e4d7-fc7f94290284"
      },
      "source": [
        "print('Output: ', model.output)"
      ],
      "execution_count": 32,
      "outputs": [
        {
          "output_type": "stream",
          "name": "stdout",
          "text": [
            "Output:  KerasTensor(type_spec=TensorSpec(shape=(None, 10), dtype=tf.float32, name=None), name='dense_2/Softmax:0', description=\"created by layer 'dense_2'\")\n"
          ]
        }
      ]
    },
    {
      "cell_type": "markdown",
      "source": [
        "## 2.1. Exercise\n",
        "Introduce [early stopping](https://www.tensorflow.org/api_docs/python/tf/keras/callbacks/EarlyStopping) and [dropout](https://www.tensorflow.org/api_docs/python/tf/keras/layers/Dropout) with a rate between 0.1..0.5. Tips:\n",
        "\n",
        "* Insert the dropout layer between the two Dense layers. \n",
        "* Set the patience of early stopping to 5.\n",
        "* Set the number of epochs to a very high number.\n",
        "* Don't forget to restore best weights after early stopping. \n",
        "* And also set early stopping to monitor validation accuracy (the default value is validation loss -- which is categorical crossentropy now).\n",
        "\n",
        "Compile and train the model. Attempt to increase the validation accuracy as much as possible by making changes to the dropout rate. Inspect the effects of the modifications."
      ],
      "metadata": {
        "id": "E-hHfs9qA_iO"
      }
    },
    {
      "cell_type": "code",
      "source": [
        "es = 0.1"
      ],
      "metadata": {
        "id": "NwXrPzOgEBG-"
      },
      "execution_count": 33,
      "outputs": []
    },
    {
      "cell_type": "code",
      "source": [
        "# model definition with dropout\n",
        "model = Sequential()\n",
        "model.add(Dense(128, activation='tanh', input_shape=(flattened_dim,)))\n",
        "model.add(Dropout(0.1))\n",
        "model.add(Dense(128, activation='tanh'))\n",
        "model.add(Dense(nb_classes, activation='softmax'))\n",
        "\n",
        "# loss function and optimizer\n",
        "model.compile(loss='categorical_crossentropy', optimizer='adam', metrics=['accuracy'])"
      ],
      "metadata": {
        "id": "7hZEGzj8GFwP"
      },
      "execution_count": 34,
      "outputs": []
    },
    {
      "cell_type": "code",
      "source": [
        "# training with early stopping\n",
        "network_history = model.fit(X_train, Y_train, \n",
        "                            validation_data=(X_valid,Y_valid),\n",
        "                            batch_size=128,                             \n",
        "                            epochs=30, \n",
        "                            verbose=1, \n",
        "                            callbacks=keras.callbacks.EarlyStopping(patience=2)) ## does it make sense? "
      ],
      "metadata": {
        "id": "GCG54R-vGGWj",
        "colab": {
          "base_uri": "https://localhost:8080/"
        },
        "outputId": "f6b2cab8-01f1-4fe3-e6fb-5f4991db9f9c"
      },
      "execution_count": 35,
      "outputs": [
        {
          "output_type": "stream",
          "name": "stdout",
          "text": [
            "Epoch 1/30\n",
            "313/313 [==============================] - 3s 6ms/step - loss: 1.8505 - accuracy: 0.3528 - val_loss: 1.7426 - val_accuracy: 0.3801\n",
            "Epoch 2/30\n",
            "313/313 [==============================] - 2s 5ms/step - loss: 1.7332 - accuracy: 0.3959 - val_loss: 1.6895 - val_accuracy: 0.4079\n",
            "Epoch 3/30\n",
            "313/313 [==============================] - 1s 4ms/step - loss: 1.6833 - accuracy: 0.4180 - val_loss: 1.6689 - val_accuracy: 0.4162\n",
            "Epoch 4/30\n",
            "313/313 [==============================] - 1s 4ms/step - loss: 1.6509 - accuracy: 0.4254 - val_loss: 1.6480 - val_accuracy: 0.4236\n",
            "Epoch 5/30\n",
            "313/313 [==============================] - 1s 5ms/step - loss: 1.6122 - accuracy: 0.4433 - val_loss: 1.6420 - val_accuracy: 0.4249\n",
            "Epoch 6/30\n",
            "313/313 [==============================] - 2s 6ms/step - loss: 1.5909 - accuracy: 0.4477 - val_loss: 1.6188 - val_accuracy: 0.4328\n",
            "Epoch 7/30\n",
            "313/313 [==============================] - 2s 5ms/step - loss: 1.5636 - accuracy: 0.4566 - val_loss: 1.6152 - val_accuracy: 0.4405\n",
            "Epoch 8/30\n",
            "313/313 [==============================] - 1s 4ms/step - loss: 1.5435 - accuracy: 0.4660 - val_loss: 1.5923 - val_accuracy: 0.4504\n",
            "Epoch 9/30\n",
            "313/313 [==============================] - 2s 6ms/step - loss: 1.5194 - accuracy: 0.4741 - val_loss: 1.5850 - val_accuracy: 0.4485\n",
            "Epoch 10/30\n",
            "313/313 [==============================] - 1s 5ms/step - loss: 1.4995 - accuracy: 0.4799 - val_loss: 1.5743 - val_accuracy: 0.4530\n",
            "Epoch 11/30\n",
            "313/313 [==============================] - 1s 5ms/step - loss: 1.4746 - accuracy: 0.4881 - val_loss: 1.5667 - val_accuracy: 0.4520\n",
            "Epoch 12/30\n",
            "313/313 [==============================] - 1s 4ms/step - loss: 1.4587 - accuracy: 0.4922 - val_loss: 1.5677 - val_accuracy: 0.4472\n",
            "Epoch 13/30\n",
            "313/313 [==============================] - 1s 4ms/step - loss: 1.4380 - accuracy: 0.4999 - val_loss: 1.5580 - val_accuracy: 0.4615\n",
            "Epoch 14/30\n",
            "313/313 [==============================] - 1s 4ms/step - loss: 1.4243 - accuracy: 0.5035 - val_loss: 1.5563 - val_accuracy: 0.4519\n",
            "Epoch 15/30\n",
            "313/313 [==============================] - 1s 4ms/step - loss: 1.4040 - accuracy: 0.5109 - val_loss: 1.5375 - val_accuracy: 0.4637\n",
            "Epoch 16/30\n",
            "313/313 [==============================] - 1s 4ms/step - loss: 1.3923 - accuracy: 0.5153 - val_loss: 1.5547 - val_accuracy: 0.4570\n",
            "Epoch 17/30\n",
            "313/313 [==============================] - 1s 4ms/step - loss: 1.3796 - accuracy: 0.5201 - val_loss: 1.5357 - val_accuracy: 0.4668\n",
            "Epoch 18/30\n",
            "313/313 [==============================] - 2s 6ms/step - loss: 1.3638 - accuracy: 0.5239 - val_loss: 1.5300 - val_accuracy: 0.4731\n",
            "Epoch 19/30\n",
            "313/313 [==============================] - 1s 5ms/step - loss: 1.3477 - accuracy: 0.5286 - val_loss: 1.5247 - val_accuracy: 0.4712\n",
            "Epoch 20/30\n",
            "313/313 [==============================] - 1s 5ms/step - loss: 1.3339 - accuracy: 0.5321 - val_loss: 1.5299 - val_accuracy: 0.4677\n",
            "Epoch 21/30\n",
            "313/313 [==============================] - 1s 4ms/step - loss: 1.3259 - accuracy: 0.5367 - val_loss: 1.5236 - val_accuracy: 0.4687\n",
            "Epoch 22/30\n",
            "313/313 [==============================] - 1s 5ms/step - loss: 1.3108 - accuracy: 0.5418 - val_loss: 1.5265 - val_accuracy: 0.4696\n",
            "Epoch 23/30\n",
            "313/313 [==============================] - 1s 4ms/step - loss: 1.2986 - accuracy: 0.5474 - val_loss: 1.5219 - val_accuracy: 0.4745\n",
            "Epoch 24/30\n",
            "313/313 [==============================] - 1s 5ms/step - loss: 1.2851 - accuracy: 0.5537 - val_loss: 1.5235 - val_accuracy: 0.4659\n",
            "Epoch 25/30\n",
            "313/313 [==============================] - 1s 4ms/step - loss: 1.2743 - accuracy: 0.5531 - val_loss: 1.5349 - val_accuracy: 0.4662\n"
          ]
        }
      ]
    },
    {
      "cell_type": "markdown",
      "source": [
        "## 2.2 Exercise\n",
        "Change the [activation function of the dense layers (except the last one)](https://www.tensorflow.org/api_docs/python/tf/keras/layers/Dense) to rectified linear unit (ReLU) and the [weight initialization](https://www.tensorflow.org/api_docs/python/tf/keras/initializers) to the theoretically best one. Use the original model's code.\n",
        "\n",
        "Compile and train the model. Inspect the effects of the modifications."
      ],
      "metadata": {
        "id": "zQCDM1o1BBtF"
      }
    },
    {
      "cell_type": "code",
      "source": [
        "# model definition with relu\n",
        "model = Sequential()\n",
        "model.add(Dense(128, activation='relu', kernel_initializer=keras.initializers.RandomNormal(mean=0., stddev=1.), input_shape=(flattened_dim,))) ##random - what is the theoretically best?\n",
        "model.add(Dense(128, activation='relu', kernel_initializer=keras.initializers.RandomNormal(mean=0., stddev=1.))) ##random\n",
        "model.add(Dense(nb_classes, activation='softmax'))\n",
        "\n",
        "# loss function and optimizer\n",
        "model.compile(loss='categorical_crossentropy', optimizer='adam', metrics=['accuracy'])"
      ],
      "metadata": {
        "id": "YjHAAh-wGu9O"
      },
      "execution_count": 37,
      "outputs": []
    },
    {
      "cell_type": "code",
      "source": [
        "# training\n",
        "network_history = model.fit(X_train, Y_train, \n",
        "                            validation_data=(X_valid,Y_valid),\n",
        "                            batch_size=128,                             \n",
        "                            epochs=40, \n",
        "                            verbose=1)"
      ],
      "metadata": {
        "id": "rarwKM1wGxMz",
        "colab": {
          "base_uri": "https://localhost:8080/"
        },
        "outputId": "bb4640e3-7703-4b14-e5ad-7b20f9d4ec41"
      },
      "execution_count": 38,
      "outputs": [
        {
          "output_type": "stream",
          "name": "stdout",
          "text": [
            "Epoch 1/40\n",
            "313/313 [==============================] - 4s 7ms/step - loss: 161.2073 - accuracy: 0.2201 - val_loss: 82.8297 - val_accuracy: 0.2695\n",
            "Epoch 2/40\n",
            "313/313 [==============================] - 2s 5ms/step - loss: 55.3030 - accuracy: 0.2792 - val_loss: 36.9570 - val_accuracy: 0.2769\n",
            "Epoch 3/40\n",
            "313/313 [==============================] - 1s 4ms/step - loss: 23.0680 - accuracy: 0.2965 - val_loss: 14.9720 - val_accuracy: 0.2742\n",
            "Epoch 4/40\n",
            "313/313 [==============================] - 1s 4ms/step - loss: 8.0143 - accuracy: 0.2909 - val_loss: 4.7333 - val_accuracy: 0.2743\n",
            "Epoch 5/40\n",
            "313/313 [==============================] - 1s 4ms/step - loss: 3.5224 - accuracy: 0.2700 - val_loss: 3.3315 - val_accuracy: 0.2335\n",
            "Epoch 6/40\n",
            "313/313 [==============================] - 1s 4ms/step - loss: 2.8425 - accuracy: 0.2711 - val_loss: 2.6328 - val_accuracy: 0.2852\n",
            "Epoch 7/40\n",
            "313/313 [==============================] - 1s 4ms/step - loss: 2.6557 - accuracy: 0.2731 - val_loss: 2.7182 - val_accuracy: 0.2609\n",
            "Epoch 8/40\n",
            "313/313 [==============================] - 2s 5ms/step - loss: 2.5459 - accuracy: 0.2781 - val_loss: 2.6920 - val_accuracy: 0.2695\n",
            "Epoch 9/40\n",
            "313/313 [==============================] - 2s 5ms/step - loss: 2.5080 - accuracy: 0.2799 - val_loss: 2.6524 - val_accuracy: 0.2701\n",
            "Epoch 10/40\n",
            "313/313 [==============================] - 1s 4ms/step - loss: 2.4583 - accuracy: 0.2846 - val_loss: 2.4304 - val_accuracy: 0.2788\n",
            "Epoch 11/40\n",
            "313/313 [==============================] - 1s 4ms/step - loss: 2.4011 - accuracy: 0.2909 - val_loss: 2.3611 - val_accuracy: 0.2836\n",
            "Epoch 12/40\n",
            "313/313 [==============================] - 1s 4ms/step - loss: 2.3554 - accuracy: 0.2925 - val_loss: 2.3880 - val_accuracy: 0.2956\n",
            "Epoch 13/40\n",
            "313/313 [==============================] - 1s 4ms/step - loss: 2.3293 - accuracy: 0.2950 - val_loss: 2.3205 - val_accuracy: 0.2954\n",
            "Epoch 14/40\n",
            "313/313 [==============================] - 1s 4ms/step - loss: 2.2428 - accuracy: 0.2992 - val_loss: 2.1680 - val_accuracy: 0.3064\n",
            "Epoch 15/40\n",
            "313/313 [==============================] - 1s 4ms/step - loss: 2.1959 - accuracy: 0.3061 - val_loss: 2.3627 - val_accuracy: 0.2978\n",
            "Epoch 16/40\n",
            "313/313 [==============================] - 1s 4ms/step - loss: 2.1489 - accuracy: 0.3123 - val_loss: 2.2059 - val_accuracy: 0.3026\n",
            "Epoch 17/40\n",
            "313/313 [==============================] - 2s 6ms/step - loss: 2.1036 - accuracy: 0.3187 - val_loss: 2.1114 - val_accuracy: 0.3055\n",
            "Epoch 18/40\n",
            "313/313 [==============================] - 1s 4ms/step - loss: 2.0372 - accuracy: 0.3273 - val_loss: 2.1730 - val_accuracy: 0.3037\n",
            "Epoch 19/40\n",
            "313/313 [==============================] - 1s 4ms/step - loss: 2.0036 - accuracy: 0.3348 - val_loss: 2.1579 - val_accuracy: 0.2971\n",
            "Epoch 20/40\n",
            "313/313 [==============================] - 1s 4ms/step - loss: 1.9760 - accuracy: 0.3388 - val_loss: 2.0221 - val_accuracy: 0.3211\n",
            "Epoch 21/40\n",
            "313/313 [==============================] - 1s 4ms/step - loss: 1.9243 - accuracy: 0.3500 - val_loss: 2.0375 - val_accuracy: 0.3206\n",
            "Epoch 22/40\n",
            "313/313 [==============================] - 1s 5ms/step - loss: 1.8932 - accuracy: 0.3523 - val_loss: 1.9665 - val_accuracy: 0.3450\n",
            "Epoch 23/40\n",
            "313/313 [==============================] - 1s 4ms/step - loss: 1.8563 - accuracy: 0.3672 - val_loss: 1.9640 - val_accuracy: 0.3318\n",
            "Epoch 24/40\n",
            "313/313 [==============================] - 2s 5ms/step - loss: 1.8244 - accuracy: 0.3706 - val_loss: 1.9365 - val_accuracy: 0.3466\n",
            "Epoch 25/40\n",
            "313/313 [==============================] - 2s 7ms/step - loss: 1.7893 - accuracy: 0.3811 - val_loss: 1.9541 - val_accuracy: 0.3410\n",
            "Epoch 26/40\n",
            "313/313 [==============================] - 2s 7ms/step - loss: 1.7502 - accuracy: 0.3925 - val_loss: 1.9626 - val_accuracy: 0.3472\n",
            "Epoch 27/40\n",
            "313/313 [==============================] - 2s 5ms/step - loss: 1.7243 - accuracy: 0.3978 - val_loss: 1.9225 - val_accuracy: 0.3601\n",
            "Epoch 28/40\n",
            "313/313 [==============================] - 2s 6ms/step - loss: 1.6955 - accuracy: 0.4095 - val_loss: 1.9258 - val_accuracy: 0.3607\n",
            "Epoch 29/40\n",
            "313/313 [==============================] - 2s 5ms/step - loss: 1.6591 - accuracy: 0.4189 - val_loss: 1.9664 - val_accuracy: 0.3480\n",
            "Epoch 30/40\n",
            "313/313 [==============================] - 2s 6ms/step - loss: 1.6282 - accuracy: 0.4274 - val_loss: 1.9515 - val_accuracy: 0.3677\n",
            "Epoch 31/40\n",
            "313/313 [==============================] - 2s 6ms/step - loss: 1.5968 - accuracy: 0.4374 - val_loss: 1.9838 - val_accuracy: 0.3712\n",
            "Epoch 32/40\n",
            "313/313 [==============================] - 2s 8ms/step - loss: 1.5682 - accuracy: 0.4452 - val_loss: 1.9649 - val_accuracy: 0.3676\n",
            "Epoch 33/40\n",
            "313/313 [==============================] - 2s 8ms/step - loss: 1.5384 - accuracy: 0.4554 - val_loss: 1.9955 - val_accuracy: 0.3688\n",
            "Epoch 34/40\n",
            "313/313 [==============================] - 2s 5ms/step - loss: 1.5053 - accuracy: 0.4642 - val_loss: 2.0388 - val_accuracy: 0.3686\n",
            "Epoch 35/40\n",
            "313/313 [==============================] - 2s 5ms/step - loss: 1.4776 - accuracy: 0.4751 - val_loss: 2.0616 - val_accuracy: 0.3765\n",
            "Epoch 36/40\n",
            "313/313 [==============================] - 2s 6ms/step - loss: 1.4451 - accuracy: 0.4848 - val_loss: 2.0999 - val_accuracy: 0.3624\n",
            "Epoch 37/40\n",
            "313/313 [==============================] - 2s 5ms/step - loss: 1.4195 - accuracy: 0.4917 - val_loss: 2.1536 - val_accuracy: 0.3750\n",
            "Epoch 38/40\n",
            "313/313 [==============================] - 2s 6ms/step - loss: 1.3836 - accuracy: 0.5013 - val_loss: 2.2157 - val_accuracy: 0.3689\n",
            "Epoch 39/40\n",
            "313/313 [==============================] - 2s 6ms/step - loss: 1.3625 - accuracy: 0.5107 - val_loss: 2.2422 - val_accuracy: 0.3754\n",
            "Epoch 40/40\n",
            "313/313 [==============================] - 1s 4ms/step - loss: 1.3325 - accuracy: 0.5219 - val_loss: 2.2926 - val_accuracy: 0.3741\n"
          ]
        }
      ]
    },
    {
      "cell_type": "markdown",
      "source": [
        "# 2.3. Exercise\n",
        "Based on the modifications above, and by any further modifications (e.g. more layers, less layers, more neurons/layer, etc.) to the model design, find a combination that is able to achieve **validation accuracy, that is higher than 53%**.\n"
      ],
      "metadata": {
        "id": "j1tGVPdD-pp3"
      }
    },
    {
      "cell_type": "code",
      "source": [
        "es = 0.1"
      ],
      "metadata": {
        "id": "5dBQxJHIHrbd"
      },
      "execution_count": 39,
      "outputs": []
    },
    {
      "cell_type": "code",
      "source": [
        "# model definition with dropout\n",
        "model = Sequential()\n",
        "model.add(Dense(128, activation='tanh', input_shape=(flattened_dim,)))\n",
        "model.add(Dropout(0.1))\n",
        "model.add(Dense(128, activation='tanh'))\n",
        "model.add(Dense(nb_classes, activation='softmax'))\n",
        "\n",
        "# loss function and optimizer\n",
        "model.compile(loss='categorical_crossentropy', optimizer='adam', metrics=['accuracy'])"
      ],
      "metadata": {
        "id": "PuxHOqLt-3Nd"
      },
      "execution_count": 44,
      "outputs": []
    },
    {
      "cell_type": "code",
      "source": [
        "# training\n",
        "network_history = model.fit(X_train, Y_train, \n",
        "                            validation_data=(X_valid,Y_valid),\n",
        "                            batch_size=128,                             \n",
        "                            epochs=40, \n",
        "                            verbose=1)"
      ],
      "metadata": {
        "id": "u8tFNCNVHyt9",
        "colab": {
          "base_uri": "https://localhost:8080/"
        },
        "outputId": "c682e800-3df2-46f3-870a-0185768756a4"
      },
      "execution_count": 45,
      "outputs": [
        {
          "output_type": "stream",
          "name": "stdout",
          "text": [
            "Epoch 1/40\n",
            "313/313 [==============================] - 3s 6ms/step - loss: 1.8572 - accuracy: 0.3495 - val_loss: 1.7461 - val_accuracy: 0.3882\n",
            "Epoch 2/40\n",
            "313/313 [==============================] - 1s 5ms/step - loss: 1.7336 - accuracy: 0.3951 - val_loss: 1.6937 - val_accuracy: 0.4097\n",
            "Epoch 3/40\n",
            "313/313 [==============================] - 1s 5ms/step - loss: 1.6764 - accuracy: 0.4190 - val_loss: 1.6690 - val_accuracy: 0.4176\n",
            "Epoch 4/40\n",
            "313/313 [==============================] - 1s 4ms/step - loss: 1.6463 - accuracy: 0.4273 - val_loss: 1.6413 - val_accuracy: 0.4296\n",
            "Epoch 5/40\n",
            "313/313 [==============================] - 1s 5ms/step - loss: 1.6114 - accuracy: 0.4403 - val_loss: 1.6301 - val_accuracy: 0.4332\n",
            "Epoch 6/40\n",
            "313/313 [==============================] - 1s 5ms/step - loss: 1.5829 - accuracy: 0.4475 - val_loss: 1.6263 - val_accuracy: 0.4351\n",
            "Epoch 7/40\n",
            "313/313 [==============================] - 2s 5ms/step - loss: 1.5588 - accuracy: 0.4591 - val_loss: 1.6081 - val_accuracy: 0.4436\n",
            "Epoch 8/40\n",
            "313/313 [==============================] - 2s 5ms/step - loss: 1.5383 - accuracy: 0.4637 - val_loss: 1.5953 - val_accuracy: 0.4443\n",
            "Epoch 9/40\n",
            "313/313 [==============================] - 1s 5ms/step - loss: 1.5157 - accuracy: 0.4748 - val_loss: 1.5872 - val_accuracy: 0.4517\n",
            "Epoch 10/40\n",
            "313/313 [==============================] - 1s 4ms/step - loss: 1.4920 - accuracy: 0.4800 - val_loss: 1.5730 - val_accuracy: 0.4530\n",
            "Epoch 11/40\n",
            "313/313 [==============================] - 1s 4ms/step - loss: 1.4763 - accuracy: 0.4858 - val_loss: 1.5678 - val_accuracy: 0.4591\n",
            "Epoch 12/40\n",
            "313/313 [==============================] - 1s 5ms/step - loss: 1.4575 - accuracy: 0.4956 - val_loss: 1.5561 - val_accuracy: 0.4606\n",
            "Epoch 13/40\n",
            "313/313 [==============================] - 1s 4ms/step - loss: 1.4373 - accuracy: 0.5010 - val_loss: 1.5544 - val_accuracy: 0.4584\n",
            "Epoch 14/40\n",
            "313/313 [==============================] - 1s 5ms/step - loss: 1.4223 - accuracy: 0.5052 - val_loss: 1.5525 - val_accuracy: 0.4674\n",
            "Epoch 15/40\n",
            "313/313 [==============================] - 1s 4ms/step - loss: 1.4008 - accuracy: 0.5134 - val_loss: 1.5665 - val_accuracy: 0.4586\n",
            "Epoch 16/40\n",
            "313/313 [==============================] - 2s 6ms/step - loss: 1.3889 - accuracy: 0.5156 - val_loss: 1.5365 - val_accuracy: 0.4669\n",
            "Epoch 17/40\n",
            "313/313 [==============================] - 2s 5ms/step - loss: 1.3753 - accuracy: 0.5201 - val_loss: 1.5313 - val_accuracy: 0.4658\n",
            "Epoch 18/40\n",
            "313/313 [==============================] - 1s 4ms/step - loss: 1.3613 - accuracy: 0.5277 - val_loss: 1.5359 - val_accuracy: 0.4651\n",
            "Epoch 19/40\n",
            "313/313 [==============================] - 1s 5ms/step - loss: 1.3418 - accuracy: 0.5300 - val_loss: 1.5319 - val_accuracy: 0.4713\n",
            "Epoch 20/40\n",
            "313/313 [==============================] - 1s 4ms/step - loss: 1.3251 - accuracy: 0.5386 - val_loss: 1.5333 - val_accuracy: 0.4691\n",
            "Epoch 21/40\n",
            "313/313 [==============================] - 1s 4ms/step - loss: 1.3204 - accuracy: 0.5374 - val_loss: 1.5380 - val_accuracy: 0.4701\n",
            "Epoch 22/40\n",
            "313/313 [==============================] - 1s 4ms/step - loss: 1.3077 - accuracy: 0.5385 - val_loss: 1.5311 - val_accuracy: 0.4718\n",
            "Epoch 23/40\n",
            "313/313 [==============================] - 1s 5ms/step - loss: 1.2950 - accuracy: 0.5489 - val_loss: 1.5256 - val_accuracy: 0.4758\n",
            "Epoch 24/40\n",
            "313/313 [==============================] - 2s 5ms/step - loss: 1.2877 - accuracy: 0.5491 - val_loss: 1.5231 - val_accuracy: 0.4682\n",
            "Epoch 25/40\n",
            "313/313 [==============================] - 2s 6ms/step - loss: 1.2673 - accuracy: 0.5593 - val_loss: 1.5367 - val_accuracy: 0.4689\n",
            "Epoch 26/40\n",
            "313/313 [==============================] - 1s 4ms/step - loss: 1.2684 - accuracy: 0.5583 - val_loss: 1.5336 - val_accuracy: 0.4685\n",
            "Epoch 27/40\n",
            "313/313 [==============================] - 1s 4ms/step - loss: 1.2575 - accuracy: 0.5608 - val_loss: 1.5335 - val_accuracy: 0.4729\n",
            "Epoch 28/40\n",
            "313/313 [==============================] - 1s 4ms/step - loss: 1.2433 - accuracy: 0.5669 - val_loss: 1.5401 - val_accuracy: 0.4674\n",
            "Epoch 29/40\n",
            "313/313 [==============================] - 1s 4ms/step - loss: 1.2320 - accuracy: 0.5708 - val_loss: 1.5393 - val_accuracy: 0.4728\n",
            "Epoch 30/40\n",
            "313/313 [==============================] - 1s 5ms/step - loss: 1.2196 - accuracy: 0.5760 - val_loss: 1.5330 - val_accuracy: 0.4777\n",
            "Epoch 31/40\n",
            "313/313 [==============================] - 1s 4ms/step - loss: 1.2117 - accuracy: 0.5800 - val_loss: 1.5370 - val_accuracy: 0.4732\n",
            "Epoch 32/40\n",
            "313/313 [==============================] - 1s 5ms/step - loss: 1.2015 - accuracy: 0.5819 - val_loss: 1.5367 - val_accuracy: 0.4754\n",
            "Epoch 33/40\n",
            "313/313 [==============================] - 2s 6ms/step - loss: 1.1915 - accuracy: 0.5814 - val_loss: 1.5448 - val_accuracy: 0.4710\n",
            "Epoch 34/40\n",
            "313/313 [==============================] - 2s 5ms/step - loss: 1.1775 - accuracy: 0.5871 - val_loss: 1.5489 - val_accuracy: 0.4743\n",
            "Epoch 35/40\n",
            "313/313 [==============================] - 1s 4ms/step - loss: 1.1786 - accuracy: 0.5895 - val_loss: 1.5424 - val_accuracy: 0.4785\n",
            "Epoch 36/40\n",
            "313/313 [==============================] - 1s 4ms/step - loss: 1.1665 - accuracy: 0.5919 - val_loss: 1.5385 - val_accuracy: 0.4797\n",
            "Epoch 37/40\n",
            "313/313 [==============================] - 1s 4ms/step - loss: 1.1562 - accuracy: 0.5968 - val_loss: 1.5521 - val_accuracy: 0.4693\n",
            "Epoch 38/40\n",
            "313/313 [==============================] - 1s 5ms/step - loss: 1.1443 - accuracy: 0.5997 - val_loss: 1.5564 - val_accuracy: 0.4775\n",
            "Epoch 39/40\n",
            "313/313 [==============================] - 1s 4ms/step - loss: 1.1373 - accuracy: 0.6023 - val_loss: 1.5516 - val_accuracy: 0.4701\n",
            "Epoch 40/40\n",
            "313/313 [==============================] - 1s 5ms/step - loss: 1.1336 - accuracy: 0.6050 - val_loss: 1.5739 - val_accuracy: 0.4713\n"
          ]
        }
      ]
    },
    {
      "cell_type": "markdown",
      "source": [
        "# 3. Evaluation on test data and inference\n",
        "At this point, we will perform a basic evaluation and inference. With the model.evaluate function, the same metrics are calculated, that were used during training:"
      ],
      "metadata": {
        "id": "2FtKp-a2-A9m"
      }
    },
    {
      "cell_type": "code",
      "source": [
        "print(model.evaluate(X_test, Y_test))"
      ],
      "metadata": {
        "id": "I3_9wgDREUna"
      },
      "execution_count": null,
      "outputs": []
    },
    {
      "cell_type": "markdown",
      "source": [
        "we would like to see similar values, as in the validation set. If those are close to each other, then the generalization ability of the model is good (in case of an independent test-set)."
      ],
      "metadata": {
        "id": "ECHguBFtGL7f"
      }
    },
    {
      "cell_type": "markdown",
      "source": [
        "## 3.1. Exercise\n",
        "Predict the class of the first 10 elements in the test set, and compare the predicted values with the actual, target values in the test set. Hints:\n",
        "* you can use [model.predict](https://www.activestate.com/resources/quick-reads/how-to-use-a-model-to-do-predictions-with-keras/) for prediction\n",
        "* from the output you can select the largest value with the [argmax() function of Numpy](https://stackoverflow.com/questions/62358642/convert-one-hot-encoding-back-to-number-label). As there are multiple values, you have to call it with axis=1 parameter.\n",
        "* it is enought to compare the predictions and the targets by printing the values out and inspecting them."
      ],
      "metadata": {
        "id": "0Io4zYJeHjz6"
      }
    },
    {
      "cell_type": "code",
      "source": [
        "X_test.shape"
      ],
      "metadata": {
        "colab": {
          "base_uri": "https://localhost:8080/"
        },
        "id": "lTE2Uk4jZ1VU",
        "outputId": "3b4d35a8-0811-4833-9acd-b891c29e0ee0"
      },
      "execution_count": 59,
      "outputs": [
        {
          "output_type": "execute_result",
          "data": {
            "text/plain": [
              "(10000, 3072)"
            ]
          },
          "metadata": {},
          "execution_count": 59
        }
      ]
    },
    {
      "cell_type": "code",
      "source": [
        "preds = model.predict(X_test[:10])\n",
        "preds_dense = np.argmax(preds, axis = 1)"
      ],
      "metadata": {
        "id": "XEEyU7exILqF",
        "colab": {
          "base_uri": "https://localhost:8080/"
        },
        "outputId": "4a05593e-d574-45bd-ac09-79cd40109104"
      },
      "execution_count": 68,
      "outputs": [
        {
          "output_type": "stream",
          "name": "stdout",
          "text": [
            "1/1 [==============================] - 0s 33ms/step\n"
          ]
        }
      ]
    },
    {
      "cell_type": "markdown",
      "source": [
        "Before comparision, you have to convert back the one-hot encoded target values the same way, as you converted the output of the neural network to class values with argmax() function."
      ],
      "metadata": {
        "id": "seZTEFI-I5cZ"
      }
    },
    {
      "cell_type": "code",
      "source": [
        "print(\"Target labels:\", np.argmax(Y_test[:10],axis=1))\n",
        "print(\"Predicted labels:\", preds_dense)"
      ],
      "metadata": {
        "id": "PHLvoMuIIkJ6",
        "colab": {
          "base_uri": "https://localhost:8080/"
        },
        "outputId": "e8d02e6b-e65c-4e2f-9dbf-ec8d14cd0081"
      },
      "execution_count": 69,
      "outputs": [
        {
          "output_type": "stream",
          "name": "stdout",
          "text": [
            "Target labels: [3 8 8 0 6 6 1 6 3 1]\n",
            "Predicted labels: [8 1 0 8 4 6 2 6 5 1]\n"
          ]
        }
      ]
    },
    {
      "cell_type": "code",
      "source": [],
      "metadata": {
        "id": "ElYfIRpAcx0j"
      },
      "execution_count": null,
      "outputs": []
    }
  ]
}