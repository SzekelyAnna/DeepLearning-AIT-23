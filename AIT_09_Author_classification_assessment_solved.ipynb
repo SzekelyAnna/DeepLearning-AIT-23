{
  "nbformat": 4,
  "nbformat_minor": 0,
  "metadata": {
    "kernelspec": {
      "display_name": "Python 3",
      "language": "python",
      "name": "python3"
    },
    "language_info": {
      "codemirror_mode": {
        "name": "ipython",
        "version": 3
      },
      "file_extension": ".py",
      "mimetype": "text/x-python",
      "name": "python",
      "nbconvert_exporter": "python",
      "pygments_lexer": "ipython3",
      "version": "3.6.6"
    },
    "colab": {
      "provenance": []
    }
  },
  "cells": [
    {
      "cell_type": "markdown",
      "metadata": {
        "id": "_jiGtJu6u9ml"
      },
      "source": [
        "# Copyright\n",
        "\n",
        "<PRE>\n",
        "Copyright (c) 2023 Bálint Gyires-Tóth - All Rights Reserved\n",
        "You may use and modify this code for research and development purpuses.\n",
        "Use this code for educational purposes (self-paced or instructor led) without the permission of the author is prohibited.\n",
        "</PRE>"
      ]
    },
    {
      "cell_type": "markdown",
      "metadata": {
        "id": "oXyFC44jV-PP"
      },
      "source": [
        "# Author classification\n",
        "The task is to train a 1D CNN or an LSTM that is able to  classify text from two authors. The final model should be able to tell about a text with a given length (e.g. 60 characters) who wrote it. \n",
        "\n",
        "Please write the codes according to the following parts:"
      ]
    },
    {
      "cell_type": "markdown",
      "metadata": {
        "id": "jCnLoeGrHXsp"
      },
      "source": [
        "## Python module imports\n",
        "Import all Python modules that you would need during the Assignment."
      ]
    },
    {
      "cell_type": "code",
      "metadata": {
        "id": "7itbFGt3HXVT"
      },
      "source": [
        "from tensorflow import keras\n",
        "from tensorflow.keras.models import Sequential\n",
        "from tensorflow.keras.layers import Dense, Activation, Dropout\n",
        "from tensorflow.keras.layers import LSTM\n",
        "from tensorflow.keras.optimizers import RMSprop\n",
        "from urllib.request import urlretrieve\n",
        "import numpy as np\n",
        "import seaborn as sns\n",
        "from sklearn.metrics import confusion_matrix\n",
        "import matplotlib.pyplot as plt"
      ],
      "execution_count": 10,
      "outputs": []
    },
    {
      "cell_type": "markdown",
      "metadata": {
        "id": "Hr617tEpHd8R"
      },
      "source": [
        "## Data acquisition\n",
        "Seek a possible dataset, you can use any source, e.g.\n",
        "* http://www.gutenberg.org/\n",
        "* https://www.kaggle.com/datasets\n",
        "* https://paperswithcode.com/datasets\n",
        "* if you would like to learn Hungarian, than e.g. https://mek.oszk.hu/\n",
        "\n",
        "You can download the text by hand (e.g. by copy-pasting some parts into txt files) or with Python. "
      ]
    },
    {
      "cell_type": "code",
      "source": [
        "def get_text(text_link):\n",
        "  urlretrieve(text_link, 'text.txt')\n",
        "  text = open(\"text.txt\", encoding='utf-8').read().lower()\n",
        "\n",
        "  print('Number of characters in the text:', len(text))\n",
        "  return (text)"
      ],
      "metadata": {
        "id": "fU7WkZELho7k"
      },
      "execution_count": 11,
      "outputs": []
    },
    {
      "cell_type": "code",
      "source": [
        "dickens_link= \"https://www.gutenberg.org/cache/epub/730/pg730.txt\"\n",
        "ibsen_link = \"https://www.gutenberg.org/cache/epub/70684/pg70684.txt\""
      ],
      "metadata": {
        "id": "lcVyOdE8lObD"
      },
      "execution_count": 12,
      "outputs": []
    },
    {
      "cell_type": "code",
      "source": [
        "dickens= get_text(dickens_link)\n",
        "ibsen = get_text(ibsen_link)"
      ],
      "metadata": {
        "id": "X0VAL1zcjl8K",
        "colab": {
          "base_uri": "https://localhost:8080/"
        },
        "outputId": "1151a537-638c-4025-8dde-7fda2887a711"
      },
      "execution_count": 13,
      "outputs": [
        {
          "output_type": "stream",
          "name": "stdout",
          "text": [
            "Number of characters in the text: 912335\n",
            "Number of characters in the text: 458988\n"
          ]
        }
      ]
    },
    {
      "cell_type": "markdown",
      "source": [
        "## Data analysis\n",
        "Count the number of characters from both authors and display them on a plot (e.g. Seaborn's countplot)."
      ],
      "metadata": {
        "id": "U9Pmq91t3SRD"
      }
    },
    {
      "cell_type": "code",
      "source": [
        "sns_plot = sns.barplot(x = np.array(['Dickens', 'Ibsen']),\n",
        "                       y = np.array([len(dickens), len(ibsen)]))\n",
        "sns_plot.set_ylabel('Number of characters', fontsize = 14)\n",
        "sns_plot.spines['right'].set_visible(False)\n",
        "sns_plot.spines['top'].set_visible(False)"
      ],
      "metadata": {
        "id": "uRqGdn4F3Spk",
        "colab": {
          "base_uri": "https://localhost:8080/",
          "height": 430
        },
        "outputId": "5a9c9aa9-23e7-4ed5-a510-e5bdfe9a0878"
      },
      "execution_count": 14,
      "outputs": [
        {
          "output_type": "display_data",
          "data": {
            "text/plain": [
              "<Figure size 640x480 with 1 Axes>"
            ],
            "image/png": "[encoded data removed]"
          },
          "metadata": {}
        }
      ]
    },
    {
      "cell_type": "markdown",
      "metadata": {
        "id": "cHyE_ndGIblJ"
      },
      "source": [
        "## Data loading, labeling and preprocessing\n",
        "Load the data and convert the characters into one-hot encodings. Then load the data into a 3D NumPy array, with a shape of\n",
        "\n",
        "* (batch, sequence_length, alphabet_length)\n",
        "\n",
        "where sequence_length=60, and alphabet_length equals to the number of unique characters in both datasets. The sequences should be cut out from the complete dataset by sliding window. You should add 0 and 1 labels to the sequences, according to the author. \n",
        "\n",
        "Later you may change sequence_length to achieve better results!"
      ]
    },
    {
      "cell_type": "code",
      "source": [
        "unique_chars = sorted(list(set(ibsen+dickens))) ## I have to difine one shared dictionary for the two authors to encode into one-hot by the same convention. "
      ],
      "metadata": {
        "id": "PelAQFV6JT8v"
      },
      "execution_count": 15,
      "outputs": []
    },
    {
      "cell_type": "code",
      "source": [
        "def get_one_hot_array(text, maxlen = 60, label = None):\n",
        "\n",
        "  maxlen  = maxlen\n",
        "  step    = 10\n",
        "  sentences  = [] \n",
        "\n",
        "  chars = unique_chars\n",
        "  char_indices = dict((c, i) for i, c in enumerate(chars))\n",
        "  for i in range(0, len(text)-maxlen, step):\n",
        "      sentences.append(text[i:i+maxlen])\n",
        "\n",
        "  ## Creating the training data\n",
        "  X = np.zeros((len(sentences), maxlen, len(chars)))\n",
        "  for i, sentence in enumerate(sentences): \n",
        "      for t, char in enumerate(sentence): \n",
        "          X[i,t,char_indices[char]] = 1 \n",
        "    \n",
        "  ## Assigning labels\n",
        "  if label == 0:\n",
        "    y = np.zeros((len(sentences)))\n",
        "  else:\n",
        "    y = np.ones((len(sentences)))\n",
        "\n",
        "    \n",
        "  return(X, y)"
      ],
      "metadata": {
        "id": "mlT6yinOAzSg"
      },
      "execution_count": 16,
      "outputs": []
    },
    {
      "cell_type": "code",
      "source": [
        "ibsen_X, ibsen_y = get_one_hot_array(ibsen, label = 0)\n",
        "dickens_X, dickens_y = get_one_hot_array(dickens, label = 1)"
      ],
      "metadata": {
        "id": "rcn_0XrIA7kJ"
      },
      "execution_count": 17,
      "outputs": []
    },
    {
      "cell_type": "code",
      "source": [
        "print(dickens_X.shape, dickens_y.shape)\n",
        "print(ibsen_X.shape, ibsen_y.shape)"
      ],
      "metadata": {
        "colab": {
          "base_uri": "https://localhost:8080/"
        },
        "id": "9bHUD1ey_ioT",
        "outputId": "e3a747c0-941a-4bb9-f5a4-bff58b21e734"
      },
      "execution_count": 18,
      "outputs": [
        {
          "output_type": "stream",
          "name": "stdout",
          "text": [
            "(91228, 60, 75) (91228,)\n",
            "(45893, 60, 75) (45893,)\n"
          ]
        }
      ]
    },
    {
      "cell_type": "code",
      "source": [
        "## Sanity check \n",
        "## print(dickens_X[0,:,:].shape)\n",
        "## np.where(dickens_X[0,:,:] != 0)[1].shape"
      ],
      "metadata": {
        "id": "oFF8e_nT_idV"
      },
      "execution_count": 19,
      "outputs": []
    },
    {
      "cell_type": "code",
      "source": [
        "## Free up some memory to avoid colab collaps\n",
        "del ibsen\n",
        "del dickens\n",
        "del get_one_hot_array\n",
        "del get_text\n",
        "del urlretrieve\n",
        "del unique_chars"
      ],
      "metadata": {
        "id": "f3iGEy0vgPyk"
      },
      "execution_count": 20,
      "outputs": []
    },
    {
      "cell_type": "code",
      "source": [
        "## Concatenating the two arrays\n",
        "X = np.concatenate((dickens_X, ibsen_X), axis=0)\n",
        "y = np.concatenate((dickens_y, ibsen_y), axis=0)"
      ],
      "metadata": {
        "id": "9IZNB2zkQp5k"
      },
      "execution_count": 21,
      "outputs": []
    },
    {
      "cell_type": "code",
      "source": [
        "print(X.shape[0] == dickens_X.shape[0] + ibsen_X.shape[0])\n",
        "print(y.shape[0] == dickens_y.shape[0] + ibsen_y.shape[0])"
      ],
      "metadata": {
        "colab": {
          "base_uri": "https://localhost:8080/"
        },
        "id": "td0_draFQp2z",
        "outputId": "15226ccb-d278-4a82-815d-6608c330408b"
      },
      "execution_count": 22,
      "outputs": [
        {
          "output_type": "stream",
          "name": "stdout",
          "text": [
            "True\n",
            "True\n"
          ]
        }
      ]
    },
    {
      "cell_type": "code",
      "source": [
        "## Free up some memory to avoid colab collaps\n",
        "del dickens_X\n",
        "del dickens_y\n",
        "del ibsen_X\n",
        "del ibsen_y"
      ],
      "metadata": {
        "id": "8lhIK5QsmALG"
      },
      "execution_count": 23,
      "outputs": []
    },
    {
      "cell_type": "code",
      "source": [
        "## Shuffling the data \n",
        "p = np.random.permutation(X.shape[0])\n",
        "X_perm, y_perm = X[p], y[p]"
      ],
      "metadata": {
        "id": "anf6iGXEQp0H"
      },
      "execution_count": 24,
      "outputs": []
    },
    {
      "cell_type": "code",
      "source": [
        "## Sanity check \n",
        "##for i in range(5):\n",
        "##  print(np.array_equal(X_perm[i,:,:], X[p[i], :,:]))"
      ],
      "metadata": {
        "id": "8iZmnMPNQpxR"
      },
      "execution_count": 25,
      "outputs": []
    },
    {
      "cell_type": "code",
      "source": [
        "## returning to the standard naming convention \n",
        "X, y = X_perm, y_perm"
      ],
      "metadata": {
        "id": "GRFRPeqNQpt3"
      },
      "execution_count": 26,
      "outputs": []
    },
    {
      "cell_type": "code",
      "source": [
        "print(np.array_equal(X, X_perm))\n",
        "print(np.array_equal(y, y_perm))"
      ],
      "metadata": {
        "colab": {
          "base_uri": "https://localhost:8080/"
        },
        "id": "PlmrYe7ApKsb",
        "outputId": "deb20bee-64df-4cd3-bfa6-4175dd5c098c"
      },
      "execution_count": 27,
      "outputs": [
        {
          "output_type": "stream",
          "name": "stdout",
          "text": [
            "True\n",
            "True\n"
          ]
        }
      ]
    },
    {
      "cell_type": "code",
      "source": [
        "## Free up some memory to avoid colab collaps\n",
        "del X_perm\n",
        "del y_perm"
      ],
      "metadata": {
        "id": "5ccABD6XQplk"
      },
      "execution_count": 28,
      "outputs": []
    },
    {
      "cell_type": "markdown",
      "metadata": {
        "id": "lL1Mc8ibHnep"
      },
      "source": [
        "## Data splitting\n",
        "Split the data into train, validate and test sets. Make "
      ]
    },
    {
      "cell_type": "code",
      "source": [
        "split1 = int(X.shape[0]*0.7)\n",
        "split2 = int(X.shape[0]*0.9)\n",
        "print (split1, split2)"
      ],
      "metadata": {
        "colab": {
          "base_uri": "https://localhost:8080/"
        },
        "id": "nvuIVQrErAc_",
        "outputId": "cc589c39-9a5a-45d5-95fe-3c98f352760b"
      },
      "execution_count": 29,
      "outputs": [
        {
          "output_type": "stream",
          "name": "stdout",
          "text": [
            "95984 123408\n"
          ]
        }
      ]
    },
    {
      "cell_type": "code",
      "metadata": {
        "id": "ELyG9XFUHrkB"
      },
      "source": [
        "X_train = X[:split1]\n",
        "y_train = y[:split1]\n",
        "\n",
        "X_valid = X[split1:split2]\n",
        "y_valid = y[split1:split2]\n",
        "\n",
        "X_test  = X[split2:]\n",
        "y_test  = y[split2:]"
      ],
      "execution_count": 30,
      "outputs": []
    },
    {
      "cell_type": "code",
      "source": [
        "# Sanity check \n",
        "#X_train.shape[0] + X_valid.shape[0] +X_test.shape[0]"
      ],
      "metadata": {
        "id": "_sT3dBDsryC-"
      },
      "execution_count": 31,
      "outputs": []
    },
    {
      "cell_type": "markdown",
      "metadata": {
        "id": "hA8U9tr7HrNQ"
      },
      "source": [
        "## Model definition\n",
        "Define a 1D CNN or an LSTM for the task. Compile the model with the correct loss function."
      ]
    },
    {
      "cell_type": "code",
      "metadata": {
        "id": "BT1V1s4kHuUe"
      },
      "source": [
        "model = Sequential()\n",
        "model.add(LSTM(64, input_shape=(X_train.shape[-2], X_train.shape[-1])))\n",
        "model.add(Dense(1, activation= 'sigmoid'))"
      ],
      "execution_count": 32,
      "outputs": []
    },
    {
      "cell_type": "code",
      "source": [
        "model.summary()"
      ],
      "metadata": {
        "id": "O6AAJEMUIKCA",
        "colab": {
          "base_uri": "https://localhost:8080/"
        },
        "outputId": "8f4cb833-f295-4c25-cc5a-36bcbfcfd4ad"
      },
      "execution_count": 33,
      "outputs": [
        {
          "output_type": "stream",
          "name": "stdout",
          "text": [
            "Model: \"sequential\"\n",
            "_________________________________________________________________\n",
            " Layer (type)                Output Shape              Param #   \n",
            "=================================================================\n",
            " lstm (LSTM)                 (None, 64)                35840     \n",
            "                                                                 \n",
            " dense (Dense)               (None, 1)                 65        \n",
            "                                                                 \n",
            "=================================================================\n",
            "Total params: 35,905\n",
            "Trainable params: 35,905\n",
            "Non-trainable params: 0\n",
            "_________________________________________________________________\n"
          ]
        }
      ]
    },
    {
      "cell_type": "markdown",
      "metadata": {
        "id": "hWFb-nAMHuAI"
      },
      "source": [
        "## Model training\n",
        "Train the model and apply early stopping."
      ]
    },
    {
      "cell_type": "code",
      "metadata": {
        "id": "dvgKjqp3Hwkp"
      },
      "source": [
        "optimizer = RMSprop(learning_rate=0.01)\n",
        "model.compile(loss='binary_crossentropy', optimizer=optimizer,  metrics=['accuracy'])"
      ],
      "execution_count": 34,
      "outputs": []
    },
    {
      "cell_type": "code",
      "source": [
        "es = keras.callbacks.EarlyStopping(patience = 6)\n",
        "model.fit(X_train, y_train, \n",
        "                  validation_data=(X_valid,y_valid),\n",
        "                  batch_size=1024,                             \n",
        "                  epochs=40, \n",
        "                  verbose=1,\n",
        "                  callbacks=es)"
      ],
      "metadata": {
        "colab": {
          "base_uri": "https://localhost:8080/"
        },
        "id": "Ii_L74W-Jp7I",
        "outputId": "52cd7353-27ba-4aa8-f385-5873a597519d"
      },
      "execution_count": 35,
      "outputs": [
        {
          "output_type": "stream",
          "name": "stdout",
          "text": [
            "Epoch 1/40\n",
            "94/94 [==============================] - 59s 606ms/step - loss: 0.5753 - accuracy: 0.7289 - val_loss: 0.5959 - val_accuracy: 0.7142\n",
            "Epoch 2/40\n",
            "94/94 [==============================] - 52s 550ms/step - loss: 0.5127 - accuracy: 0.7679 - val_loss: 0.3869 - val_accuracy: 0.8521\n",
            "Epoch 3/40\n",
            "94/94 [==============================] - 57s 607ms/step - loss: 0.3895 - accuracy: 0.8548 - val_loss: 0.3436 - val_accuracy: 0.8780\n",
            "Epoch 4/40\n",
            "94/94 [==============================] - 56s 596ms/step - loss: 0.4016 - accuracy: 0.8417 - val_loss: 0.3059 - val_accuracy: 0.8829\n",
            "Epoch 5/40\n",
            "94/94 [==============================] - 56s 596ms/step - loss: 0.3115 - accuracy: 0.8818 - val_loss: 0.3025 - val_accuracy: 0.8596\n",
            "Epoch 6/40\n",
            "94/94 [==============================] - 57s 606ms/step - loss: 0.2768 - accuracy: 0.8923 - val_loss: 0.2436 - val_accuracy: 0.9032\n",
            "Epoch 7/40\n",
            "94/94 [==============================] - 56s 594ms/step - loss: 0.2558 - accuracy: 0.8993 - val_loss: 0.2527 - val_accuracy: 0.8986\n",
            "Epoch 8/40\n",
            "94/94 [==============================] - 52s 553ms/step - loss: 0.2391 - accuracy: 0.9035 - val_loss: 0.2381 - val_accuracy: 0.9037\n",
            "Epoch 9/40\n",
            "94/94 [==============================] - 57s 606ms/step - loss: 0.2286 - accuracy: 0.9068 - val_loss: 0.2203 - val_accuracy: 0.9097\n",
            "Epoch 10/40\n",
            "94/94 [==============================] - 56s 601ms/step - loss: 0.2198 - accuracy: 0.9102 - val_loss: 0.2326 - val_accuracy: 0.9076\n",
            "Epoch 11/40\n",
            "94/94 [==============================] - 59s 624ms/step - loss: 0.2127 - accuracy: 0.9127 - val_loss: 0.2043 - val_accuracy: 0.9163\n",
            "Epoch 12/40\n",
            "94/94 [==============================] - 55s 591ms/step - loss: 0.2024 - accuracy: 0.9158 - val_loss: 0.2249 - val_accuracy: 0.9102\n",
            "Epoch 13/40\n",
            "94/94 [==============================] - 52s 551ms/step - loss: 0.1950 - accuracy: 0.9192 - val_loss: 0.1862 - val_accuracy: 0.9241\n",
            "Epoch 14/40\n",
            "94/94 [==============================] - 56s 600ms/step - loss: 0.1867 - accuracy: 0.9219 - val_loss: 0.1849 - val_accuracy: 0.9221\n",
            "Epoch 15/40\n",
            "94/94 [==============================] - 56s 599ms/step - loss: 0.1768 - accuracy: 0.9260 - val_loss: 0.2062 - val_accuracy: 0.9204\n",
            "Epoch 16/40\n",
            "94/94 [==============================] - 52s 550ms/step - loss: 0.1702 - accuracy: 0.9281 - val_loss: 0.1688 - val_accuracy: 0.9296\n",
            "Epoch 17/40\n",
            "94/94 [==============================] - 56s 603ms/step - loss: 0.1616 - accuracy: 0.9307 - val_loss: 0.1677 - val_accuracy: 0.9272\n",
            "Epoch 18/40\n",
            "94/94 [==============================] - 52s 551ms/step - loss: 0.1542 - accuracy: 0.9343 - val_loss: 0.1565 - val_accuracy: 0.9327\n",
            "Epoch 19/40\n",
            "94/94 [==============================] - 51s 548ms/step - loss: 0.1461 - accuracy: 0.9369 - val_loss: 0.1584 - val_accuracy: 0.9352\n",
            "Epoch 20/40\n",
            "94/94 [==============================] - 51s 544ms/step - loss: 0.1384 - accuracy: 0.9401 - val_loss: 0.1567 - val_accuracy: 0.9327\n",
            "Epoch 21/40\n",
            "94/94 [==============================] - 55s 584ms/step - loss: 0.1303 - accuracy: 0.9436 - val_loss: 0.1458 - val_accuracy: 0.9383\n",
            "Epoch 22/40\n",
            "94/94 [==============================] - 55s 591ms/step - loss: 0.1237 - accuracy: 0.9465 - val_loss: 0.1366 - val_accuracy: 0.9421\n",
            "Epoch 23/40\n",
            "94/94 [==============================] - 57s 604ms/step - loss: 0.1145 - accuracy: 0.9500 - val_loss: 0.1532 - val_accuracy: 0.9352\n",
            "Epoch 24/40\n",
            "94/94 [==============================] - 55s 583ms/step - loss: 0.1087 - accuracy: 0.9531 - val_loss: 0.1292 - val_accuracy: 0.9449\n",
            "Epoch 25/40\n",
            "94/94 [==============================] - 55s 584ms/step - loss: 0.1018 - accuracy: 0.9558 - val_loss: 0.1247 - val_accuracy: 0.9461\n",
            "Epoch 26/40\n",
            "94/94 [==============================] - 52s 549ms/step - loss: 0.0960 - accuracy: 0.9588 - val_loss: 0.1274 - val_accuracy: 0.9469\n",
            "Epoch 27/40\n",
            "94/94 [==============================] - 55s 585ms/step - loss: 0.0900 - accuracy: 0.9612 - val_loss: 0.1519 - val_accuracy: 0.9381\n",
            "Epoch 28/40\n",
            "94/94 [==============================] - 57s 607ms/step - loss: 0.0842 - accuracy: 0.9637 - val_loss: 0.1242 - val_accuracy: 0.9469\n",
            "Epoch 29/40\n",
            "94/94 [==============================] - 55s 590ms/step - loss: 0.0800 - accuracy: 0.9653 - val_loss: 0.1172 - val_accuracy: 0.9519\n",
            "Epoch 30/40\n",
            "94/94 [==============================] - 55s 587ms/step - loss: 0.0749 - accuracy: 0.9679 - val_loss: 0.1384 - val_accuracy: 0.9472\n",
            "Epoch 31/40\n",
            "94/94 [==============================] - 56s 598ms/step - loss: 0.0707 - accuracy: 0.9697 - val_loss: 0.1274 - val_accuracy: 0.9525\n",
            "Epoch 32/40\n",
            "94/94 [==============================] - 57s 605ms/step - loss: 0.0666 - accuracy: 0.9710 - val_loss: 0.1115 - val_accuracy: 0.9543\n",
            "Epoch 33/40\n",
            "94/94 [==============================] - 55s 588ms/step - loss: 0.0636 - accuracy: 0.9725 - val_loss: 0.1349 - val_accuracy: 0.9488\n",
            "Epoch 34/40\n",
            "94/94 [==============================] - 56s 598ms/step - loss: 0.0615 - accuracy: 0.9735 - val_loss: 0.1496 - val_accuracy: 0.9425\n",
            "Epoch 35/40\n",
            "94/94 [==============================] - 56s 597ms/step - loss: 0.0566 - accuracy: 0.9759 - val_loss: 0.1200 - val_accuracy: 0.9546\n",
            "Epoch 36/40\n",
            "94/94 [==============================] - 55s 585ms/step - loss: 0.0554 - accuracy: 0.9759 - val_loss: 0.1112 - val_accuracy: 0.9557\n",
            "Epoch 37/40\n",
            "94/94 [==============================] - 55s 590ms/step - loss: 0.0528 - accuracy: 0.9772 - val_loss: 0.1146 - val_accuracy: 0.9576\n",
            "Epoch 38/40\n",
            "94/94 [==============================] - 56s 601ms/step - loss: 0.0503 - accuracy: 0.9785 - val_loss: 0.1072 - val_accuracy: 0.9587\n",
            "Epoch 39/40\n",
            "94/94 [==============================] - 56s 591ms/step - loss: 0.0489 - accuracy: 0.9788 - val_loss: 0.1066 - val_accuracy: 0.9591\n",
            "Epoch 40/40\n",
            "94/94 [==============================] - 56s 593ms/step - loss: 0.0457 - accuracy: 0.9804 - val_loss: 0.1228 - val_accuracy: 0.9555\n"
          ]
        },
        {
          "output_type": "execute_result",
          "data": {
            "text/plain": [
              "<keras.callbacks.History at 0x7f7a46357f70>"
            ]
          },
          "metadata": {},
          "execution_count": 35
        }
      ]
    },
    {
      "cell_type": "markdown",
      "metadata": {
        "id": "0omw2XzSHwOo"
      },
      "source": [
        "## Evaluation on test data\n",
        "Evaluate the model on the test data in terms of loss and accuracy."
      ]
    },
    {
      "cell_type": "code",
      "source": [
        "model.evaluate(X_test, y_test)"
      ],
      "metadata": {
        "colab": {
          "base_uri": "https://localhost:8080/"
        },
        "id": "zLMcEDbE2lCp",
        "outputId": "f18034f5-3885-4c7a-b1e5-bd4135e42a2c"
      },
      "execution_count": 36,
      "outputs": [
        {
          "output_type": "stream",
          "name": "stdout",
          "text": [
            "429/429 [==============================] - 7s 17ms/step - loss: 0.1276 - accuracy: 0.9558\n"
          ]
        },
        {
          "output_type": "execute_result",
          "data": {
            "text/plain": [
              "[0.12761418521404266, 0.9558083415031433]"
            ]
          },
          "metadata": {},
          "execution_count": 36
        }
      ]
    },
    {
      "cell_type": "markdown",
      "metadata": {
        "id": "4Y73Q-h5Hz1r"
      },
      "source": [
        "## Confusion matrix\n",
        "Calculate and display the confusion matrix."
      ]
    },
    {
      "cell_type": "code",
      "source": [
        "predictions = (model.predict(X_test) > 0.5).astype(\"int32\")"
      ],
      "metadata": {
        "colab": {
          "base_uri": "https://localhost:8080/"
        },
        "id": "gIXiMqjPCrfs",
        "outputId": "413bfcb4-2aa5-4dbf-c4a2-376c6fa9a85d"
      },
      "execution_count": 37,
      "outputs": [
        {
          "output_type": "stream",
          "name": "stdout",
          "text": [
            "429/429 [==============================] - 7s 16ms/step\n"
          ]
        }
      ]
    },
    {
      "cell_type": "code",
      "source": [
        "#print(np.count_nonzero(y_test == 1))\n",
        "## 8712+427"
      ],
      "metadata": {
        "id": "JXdMxJU9ETb6"
      },
      "execution_count": 38,
      "outputs": []
    },
    {
      "cell_type": "code",
      "source": [
        "conf = confusion_matrix(y_test, predictions)\n",
        "sns_plot = sns.heatmap(conf, annot=True, fmt=',d')\n",
        "sns_plot.set_yticklabels(['Ibsen text', 'Dickens text'])\n",
        "sns_plot.set_xticklabels(['Predicted Ibsen', 'Predicted Dickens'])\n",
        "sns_plot.set_title('Author prediction');"
      ],
      "metadata": {
        "colab": {
          "base_uri": "https://localhost:8080/",
          "height": 452
        },
        "id": "tPPzNQ_uDBN-",
        "outputId": "11d7f2f5-2d29-4362-d098-28de3db7bf09"
      },
      "execution_count": 39,
      "outputs": [
        {
          "output_type": "display_data",
          "data": {
            "text/plain": [
              "<Figure size 640x480 with 2 Axes>"
            ],
            "image/png": "[encoded data removed]"
          },
          "metadata": {}
        }
      ]
    },
    {
      "cell_type": "code",
      "source": [],
      "metadata": {
        "id": "Do-l-IiMLGMu"
      },
      "execution_count": null,
      "outputs": []
    }
  ]
}